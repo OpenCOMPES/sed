{
 "cells": [
  {
   "cell_type": "code",
   "execution_count": null,
   "metadata": {},
   "outputs": [],
   "source": [
    "!mkdir -p \"raw/hdf/express-0/fl1user3/\"\n",
    "!wget \"https://syncandshare.desy.de/index.php/s/PcP2BbcE2DDLFkZ/download/FLASH1_USER3_stream_2_run43878_file1_20230130T153807.1.h5\" -O \"raw/hdf/express-0/fl1user3/FLASH1_USER3_stream_2_run43878_file1_20230130T153807.1.h5\""
   ]
  },
  {
   "cell_type": "code",
   "execution_count": null,
   "metadata": {},
   "outputs": [],
   "source": [
    "from sed import SedProcessor\n",
    "\n",
    "sp = SedProcessor(files=[43878], config=\"test_config.yaml\")\n"
   ]
  },
  {
   "cell_type": "code",
   "execution_count": null,
   "metadata": {},
   "outputs": [],
   "source": [
    "sp._dataframe.compute()"
   ]
  },
  {
   "cell_type": "code",
   "execution_count": null,
   "metadata": {},
   "outputs": [],
   "source": [
    "axes = ['dldPosX', 'dldPosY']\n",
    "bins = [(0,900,10), (0,900,10)]\n",
    "res = sp.compute(bins=bins, axes=axes)"
   ]
  },
  {
   "cell_type": "code",
   "execution_count": null,
   "metadata": {},
   "outputs": [],
   "source": [
    "res.plot(cmap='terrain')"
   ]
  },
  {
   "cell_type": "code",
   "execution_count": null,
   "metadata": {},
   "outputs": [],
   "source": []
  }
 ],
 "metadata": {
  "kernelspec": {
   "display_name": "sed-aLRHxgd9-py3.8",
   "language": "python",
   "name": "python3"
  },
  "language_info": {
   "codemirror_mode": {
    "name": "ipython",
    "version": 3
   },
   "file_extension": ".py",
   "mimetype": "text/x-python",
   "name": "python",
   "nbconvert_exporter": "python",
   "pygments_lexer": "ipython3",
   "version": "3.8.12"
  }
 },
 "nbformat": 4,
 "nbformat_minor": 2
}
