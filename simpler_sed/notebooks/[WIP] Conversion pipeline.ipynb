{
 "cells": [
  {
   "cell_type": "code",
   "execution_count": null,
   "id": "92a0041f-a2af-4cdb-a3c3-870299863640",
   "metadata": {},
   "outputs": [],
   "source": [
    "%load_ext autoreload\n",
    "%autoreload 2\n",
    "# %load_ext line_profiler\n",
    "\n",
    "import math\n",
    "from pathlib import Path\n",
    "\n",
    "import matplotlib.patches as patches\n",
    "import matplotlib.pyplot as plt\n",
    "import numpy as np\n",
    "import toolbox_sxp as sxp\n",
    "\n",
    "%matplotlib widget"
   ]
  },
  {
   "cell_type": "code",
   "execution_count": null,
   "id": "85303c27-4028-49b6-8284-cdb16f829376",
   "metadata": {},
   "outputs": [],
   "source": [
    "# dataPath = '../../' # Put in Path to a storage of at least 20 Gbyte free space.\n",
    "# if not os.path.exists(dataPath + \"/WSe2.zip\"):\n",
    "#     os.system(f\"curl --output {dataPath}/WSe2.zip https://zenodo.org/record/6369728/files/WSe2.zip\")\n",
    "# if not os.path.isdir(dataPath + \"/Scan049_1\") or not os.path.isdir(dataPath + \"energycal_2019_01_08/\"):\n",
    "#     shutil.unpack_archive(dataPath + '/WSe2.zip', extract_dir=dataPath)"
   ]
  },
  {
   "cell_type": "code",
   "execution_count": null,
   "id": "5928d332-5779-48ea-b4d3-86b9c7b4a31c",
   "metadata": {},
   "outputs": [],
   "source": [
    "data = Path(\"/home/jimenezd/_scratch/SXP/Datasets\")\n",
    "# The Scan directory\n",
    "files_dir = data / \"Scan049_1\""
   ]
  },
  {
   "cell_type": "markdown",
   "id": "d3714baf-6609-42e4-b6ca-738575a2cb01",
   "metadata": {},
   "source": [
    "# Load data"
   ]
  },
  {
   "cell_type": "code",
   "execution_count": null,
   "id": "4b84da03-efe2-4c6d-b344-98641e3d3510",
   "metadata": {},
   "outputs": [],
   "source": [
    "polars_df = sxp.get_df(files_dir, apply_jitter=True, concat_raw=True)"
   ]
  },
  {
   "cell_type": "code",
   "execution_count": null,
   "id": "0892c986-693c-457e-99d8-4b9eaefd74bd",
   "metadata": {},
   "outputs": [],
   "source": [
    "polars_df.head(4)"
   ]
  },
  {
   "cell_type": "code",
   "execution_count": null,
   "id": "d2f86d23-3879-4e81-a83a-359e19792a9c",
   "metadata": {},
   "outputs": [],
   "source": [
    "file_num = 2\n",
    "\n",
    "files_sorted = sxp.reader._sort_dir(files_dir)\n",
    "offset = sxp.reader._get_chunks(files_sorted)\n",
    "_start = sum(offset[v] for v in range(file_num))\n",
    "_end = sum(offset[v] for v in range(file_num + 1))\n",
    "dfpid_2 = polars_df[_start:_end, :]"
   ]
  },
  {
   "cell_type": "code",
   "execution_count": null,
   "id": "5fb324db-aeae-473f-bd3e-ae1b553f424c",
   "metadata": {},
   "outputs": [],
   "source": [
    "# from config file\n",
    "_axes = (\"X\", \"Y\", \"t\", \"ADC\")\n",
    "_bins = (80, 80, 80, 80)\n",
    "_ranges = ((0, 1800), (0, 1800), (65000, 69000), (0, 9000))\n",
    "\n",
    "\n",
    "fig, axs = plt.subplots(2, 2, figsize=(10, 6))\n",
    "fig.suptitle(f\"Event histograms of file {file_num}\")\n",
    "axs = axs.flatten()\n",
    "\n",
    "for i, k in enumerate(_axes):\n",
    "    axs[i].hist(\n",
    "        dfpid_2.select(f\"{k}_jitter\"),\n",
    "        bins=_bins[i],\n",
    "        range=_ranges[i],\n",
    "        label=k,\n",
    "        histtype=\"bar\",\n",
    "        edgecolor=\"#6A9662\",\n",
    "        color=\"#DDFFDD\",\n",
    "    )\n",
    "    axs[i].legend(frameon=False)"
   ]
  },
  {
   "cell_type": "markdown",
   "id": "b7c3ca43-9af2-47da-9a9e-baac1d6e2492",
   "metadata": {},
   "source": [
    "# Distortion correction and Momentum Calibration workflow"
   ]
  },
  {
   "cell_type": "code",
   "execution_count": null,
   "id": "ef836eb4-6575-4bb5-aac7-12a237ff7ac9",
   "metadata": {},
   "outputs": [],
   "source": [
    "_axes = (\"X\", \"Y\", \"t\")\n",
    "_bins = (512, 512, 300)\n",
    "_ranges = ((-256, 1792), (-256, 1792), (66000, 68000))"
   ]
  },
  {
   "cell_type": "markdown",
   "id": "9bb4acf9-6ac3-4ca4-a3cb-8ed9bb53830a",
   "metadata": {},
   "source": [
    "### Step 1"
   ]
  },
  {
   "cell_type": "code",
   "execution_count": null,
   "id": "2f5e28b5-707b-4e3a-9c0b-a36ea0dd3bf3",
   "metadata": {},
   "outputs": [],
   "source": [
    "pbinning_Jit = sxp.binning.pbinning(\n",
    "    files_sorted,\n",
    "    nproc=60,\n",
    "    axes=_axes,\n",
    "    bins=_bins,\n",
    "    ranges=_ranges,\n",
    "    jittered=True,\n",
    ")"
   ]
  },
  {
   "cell_type": "code",
   "execution_count": null,
   "id": "428498ca-55c6-496e-a7bc-3a0ea7161ae2",
   "metadata": {},
   "outputs": [],
   "source": [
    "plane = 33\n",
    "width = 10\n",
    "V = pbinning_Jit[\"binned\"]\n",
    "E_slice = V[:, :, plane : plane + width].sum(axis=(2)).T"
   ]
  },
  {
   "cell_type": "code",
   "execution_count": null,
   "id": "a2ae7873-5128-4bee-a509-9252b96915a3",
   "metadata": {},
   "outputs": [],
   "source": [
    "f, ax = plt.subplots(figsize=(4, 4))\n",
    "ax.imshow(E_slice, origin=\"lower\", cmap=\"terrain_r\")\n",
    "ax.set_title(f\"Plane[{plane}:{plane+width}]\");"
   ]
  },
  {
   "cell_type": "markdown",
   "id": "4464bbe8-80cb-49f7-a87c-f12b81184255",
   "metadata": {},
   "source": [
    "### Step 2"
   ]
  },
  {
   "cell_type": "code",
   "execution_count": null,
   "id": "91c0e296-0e8f-46c9-88cb-dac83984f2c5",
   "metadata": {},
   "outputs": [],
   "source": [
    "features = sxp.utils.annotate_features(E_slice, threshold=15, order=\"ccw\")\n",
    "\n",
    "targets = sxp.utils.rotational_array_generation(\n",
    "    features, symmetry_order=6, export_centre=True\n",
    ")\n",
    "\n",
    "mod_img, ext = sxp.transformations.translate_and_rotate(\n",
    "    E_slice,\n",
    "    shift=features[\"centre\"][:-1],\n",
    "    angle=0,\n",
    "    rotation_center=features[\"centre\"][:-1],\n",
    "    scaling=1.0,\n",
    ")\n",
    "\n",
    "warped_img, deformation_field = sxp.transformations.generate_splinewarp(\n",
    "    mod_img, features, targets, get_dfield=True\n",
    ")"
   ]
  },
  {
   "cell_type": "code",
   "execution_count": null,
   "id": "de9d95ca-810a-425f-9065-45d5fa178af6",
   "metadata": {},
   "outputs": [],
   "source": [
    "f, (ax0, ax1, ax2) = plt.subplots(ncols=3, figsize=(12, 4), constrained_layout=True)\n",
    "\n",
    "im0 = ax0.imshow(E_slice, origin=\"lower\", cmap=\"terrain_r\")\n",
    "ax0.set_title(\"Unmodified image\\nat its original location\")\n",
    "\n",
    "# fixed lines\n",
    "ax0.axhline(y=E_slice.shape[1] / 2, color=\"r\", alpha=0.3)\n",
    "ax0.axvline(x=E_slice.shape[0] / 2, color=\"r\", alpha=0.3)\n",
    "center = (E_slice.shape[0] / 2, E_slice.T.shape[1] / 2)\n",
    "ax0.axline(xy1=center, slope=math.tan(math.radians(60)), alpha=0.3)\n",
    "ax0.axline(xy1=center, slope=math.tan(math.radians(120)), alpha=0.3)\n",
    "\n",
    "hexagon0 = patches.RegularPolygon(\n",
    "    (255, 255),\n",
    "    numVertices=6,\n",
    "    radius=100,\n",
    "    orientation=math.radians(30),\n",
    "    alpha=0.2,\n",
    "    edgecolor=\"k\",\n",
    ")\n",
    "ax0.add_patch(hexagon0)\n",
    "\n",
    "\n",
    "im1 = ax1.imshow(mod_img, origin=\"lower\", cmap=\"terrain_r\", extent=ext)\n",
    "ax1.set_title(\"Unmodified image\\ntranslated to (0, 0)\")\n",
    "\n",
    "# fixed lines\n",
    "ax1.axhline(y=0, color=\"r\", alpha=0.3)\n",
    "ax1.axvline(x=0, color=\"r\", alpha=0.3)\n",
    "ax1.axline((0, 0), slope=math.tan(math.radians(60)), alpha=0.3)\n",
    "ax1.axline((0, 0), slope=math.tan(math.radians(120)), alpha=0.3)\n",
    "\n",
    "hexagon1 = patches.RegularPolygon(\n",
    "    (0, 0),\n",
    "    numVertices=6,\n",
    "    radius=100,\n",
    "    orientation=math.radians(30),\n",
    "    alpha=0.2,\n",
    "    edgecolor=\"k\",\n",
    ")\n",
    "ax1.add_patch(hexagon1)\n",
    "\n",
    "\n",
    "ax2.imshow(warped_img, origin=\"lower\", extent=ext, cmap=\"terrain_r\")\n",
    "ax2.set_title(\"Warped image\\ntranslated to (0,0)\")\n",
    "\n",
    "# fixed lines\n",
    "ax2.axhline(0, color=\"r\", alpha=0.3)\n",
    "ax2.axvline(0, color=\"r\", alpha=0.3)\n",
    "ax2.axline((0, 0), slope=math.tan(math.radians(60)), alpha=0.3)\n",
    "ax2.axline((0, 0), slope=math.tan(math.radians(120)), alpha=0.3)\n",
    "\n",
    "hexagon2 = patches.RegularPolygon(\n",
    "    (0, 0),\n",
    "    numVertices=6,\n",
    "    radius=90,\n",
    "    orientation=math.radians(30),\n",
    "    alpha=0.2,\n",
    "    edgecolor=\"k\",\n",
    ")\n",
    "ax2.add_patch(hexagon2);"
   ]
  },
  {
   "cell_type": "markdown",
   "id": "c1005a92-f5ed-48f7-bb7b-2cfb36919a1e",
   "metadata": {},
   "source": [
    "### Step 3"
   ]
  },
  {
   "cell_type": "code",
   "execution_count": null,
   "id": "b5beaa58-fc9c-459a-a5cf-b9d766941f9c",
   "metadata": {},
   "outputs": [],
   "source": [
    "# Original grid (unmodified)\n",
    "imw, imh = E_slice.shape\n",
    "x, y = np.meshgrid(\n",
    "    np.arange(imw, dtype=np.float32), np.arange(imh, dtype=np.float32), copy=False\n",
    ")\n",
    "\n",
    "# Deformation field\n",
    "x_def, y_def = deformation_field"
   ]
  },
  {
   "cell_type": "code",
   "execution_count": null,
   "id": "a24af527-4dad-4e6b-ae5d-9f1864e98849",
   "metadata": {},
   "outputs": [],
   "source": [
    "fig, (ax0, ax1) = plt.subplots(ncols=2, figsize=(12, 4))\n",
    "\n",
    "ax0.scatter(x[::10, ::10], y[::10, ::10], s=1)\n",
    "ax0.set_title(\"Original grid of the image\")\n",
    "ax0.axhline(y=250, color=\"r\", alpha=0.3)\n",
    "ax0.axvline(x=250, color=\"r\", alpha=0.3)\n",
    "\n",
    "ax1.scatter(x_def[::10, ::10], y_def[::10, ::10], s=1)\n",
    "ax1.set_title(\"Deformation field after warping\")\n",
    "ax1.axhline(y=250, color=\"r\", alpha=0.3)\n",
    "ax1.axvline(x=250, color=\"r\", alpha=0.3);"
   ]
  },
  {
   "cell_type": "markdown",
   "id": "31ddb8e9-b373-48ca-8fe4-01a8f8f1d426",
   "metadata": {},
   "source": [
    "### Step 4"
   ]
  },
  {
   "cell_type": "code",
   "execution_count": null,
   "id": "922fd4f0-9fa9-42c6-bc28-4e6fa14e367d",
   "metadata": {},
   "outputs": [],
   "source": [
    "inv_dfield = sxp.utils.generate_inverse_dfield(\n",
    "    r_dfield=y_def,\n",
    "    c_dfield=x_def,\n",
    "    bin_ranges=((-256, 1792), (-256, 1792)),\n",
    "    detector_ranges=((0, 2048), (0, 2048)),\n",
    ")"
   ]
  },
  {
   "cell_type": "code",
   "execution_count": null,
   "id": "bfccaedd-c162-4bc1-b345-5dd366d553e3",
   "metadata": {},
   "outputs": [],
   "source": [
    "applied_dfield = sxp.utils.apply_dfield(\n",
    "    df=polars_df,\n",
    "    dfield=inv_dfield,\n",
    "    x_col=\"X_jitter\",\n",
    "    y_col=\"Y_jitter\",\n",
    "    detector_ranges=((0, 2048), (0, 2048)),\n",
    ")"
   ]
  },
  {
   "cell_type": "code",
   "execution_count": null,
   "id": "920ae34c-86f2-4ffb-a407-8e58848e8eea",
   "metadata": {},
   "outputs": [],
   "source": [
    "k_space = sxp.calibration.momentum_cal(E_slice, point = features['vertices'][2, :2], k_distance=3.28, df=applied_dfield)"
   ]
  },
  {
   "cell_type": "markdown",
   "id": "ebd42e86-c48f-4a44-a515-b2c4e074356c",
   "metadata": {},
   "source": [
    "# Energy calibration"
   ]
  },
  {
   "cell_type": "code",
   "execution_count": null,
   "id": "dc8187b1-f62f-4bce-83e2-d9bd00e3f15e",
   "metadata": {},
   "outputs": [],
   "source": [
    "data = Path(\"/home/jimenezd/_scratch/SXP/Datasets\")\n",
    "# The Energycal directory\n",
    "files_dir = data / \"energycal_2019_01_08\"\n",
    "\n",
    "_axes = (\"t\",)\n",
    "_bins = (1000,)\n",
    "_ranges = ((64000, 75000),)\n",
    "voltages = np.arange(-12, -23, -1, dtype=np.int8)"
   ]
  },
  {
   "cell_type": "code",
   "execution_count": null,
   "id": "152597ab-74f6-4cc5-a3f9-6b739c45f1a5",
   "metadata": {},
   "outputs": [],
   "source": [
    "files_sorted = sxp.reader._sort_dir(files_dir)\n",
    "\n",
    "my_parp = sxp.binning.pbinning(\n",
    "    files_sorted,\n",
    "    nproc=len(files_sorted),\n",
    "    axes=_axes,\n",
    "    bins=_bins,\n",
    "    ranges=_ranges,\n",
    "    jittered=True,\n",
    "    sum_binned=False,\n",
    "    normalize=True,\n",
    "    smooth=True,\n",
    ")"
   ]
  },
  {
   "cell_type": "code",
   "execution_count": null,
   "id": "e30e92c9-db92-4007-8a13-3234f4527507",
   "metadata": {},
   "outputs": [],
   "source": [
    "f, ax = plt.subplots(figsize=(9, 4), constrained_layout=True)\n",
    "cmap = plt.get_cmap(\"jet_r\")\n",
    "_colors = (\n",
    "    cmap(float(idx) / len(my_parp[\"binned\"])) for idx, _ in enumerate(my_parp[\"binned\"])\n",
    ")\n",
    "ax.set_prop_cycle(color=_colors)\n",
    "\n",
    "ax.plot(\n",
    "    my_parp[\"axes\"][\"t\"],\n",
    "    my_parp[\"binned\"].T,\n",
    "    alpha=0.7,\n",
    "    ls=\"--\",\n",
    "    linewidth=0.7,\n",
    "    label=[f\"{v} V\" for v in voltages],\n",
    ")\n",
    "\n",
    "ax.set_xlabel(\"Time of flight\", fontsize=15)\n",
    "ax.set_ylabel(\"Normalized intensity\", fontsize=15)\n",
    "ax.legend(frameon=False)\n",
    "ax.grid();"
   ]
  },
  {
   "cell_type": "code",
   "execution_count": null,
   "id": "0e99f512-162a-4fbc-ae90-52e6d20ceaaf",
   "metadata": {},
   "outputs": [],
   "source": [
    "my_pks = sxp.calibration.peaks_search(\n",
    "    my_parp[\"axes\"][\"t\"],\n",
    "    my_parp[\"binned\"],\n",
    "    initial_guess_range=(65000, 65250),\n",
    "    plot=True,\n",
    ")"
   ]
  },
  {
   "cell_type": "code",
   "execution_count": null,
   "id": "1103c072-b51e-4490-9640-fb625e82d9d0",
   "metadata": {},
   "outputs": [],
   "source": [
    "E_calibration = sxp.calibration.energy_cal(\n",
    "    my_parp[\"axes\"][\"t\"], my_parp[\"binned\"], my_pks, voltages, plot=True\n",
    ")"
   ]
  },
  {
   "cell_type": "code",
   "execution_count": null,
   "id": "61dc4a74-f2dd-47bd-9496-d9e5d36fdef5",
   "metadata": {},
   "outputs": [],
   "source": []
  }
 ],
 "metadata": {
  "kernelspec": {
   "display_name": "toolbox_sxp",
   "language": "python",
   "name": "toolbox_sxp"
  },
  "language_info": {
   "codemirror_mode": {
    "name": "ipython",
    "version": 3
   },
   "file_extension": ".py",
   "mimetype": "text/x-python",
   "name": "python",
   "nbconvert_exporter": "python",
   "pygments_lexer": "ipython3",
   "version": "3.8.12"
  }
 },
 "nbformat": 4,
 "nbformat_minor": 5
}
