{
 "cells": [
  {
   "cell_type": "code",
   "execution_count": null,
   "metadata": {},
   "outputs": [],
   "source": [
    "from pathlib import Path\n",
    "\n",
    "from sed import SedProcessor\n",
    "import sed\n",
    "import numpy as np\n",
    "\n",
    "%matplotlib inline\n",
    "# %matplotlib ipympl\n",
    "import matplotlib.pyplot as plt"
   ]
  },
  {
   "cell_type": "code",
   "execution_count": null,
   "metadata": {},
   "outputs": [],
   "source": [
    "%matplotlib widget"
   ]
  },
  {
   "cell_type": "code",
   "execution_count": null,
   "metadata": {},
   "outputs": [],
   "source": [
    "local_path = Path(sed.__file__).parent.parent/'tutorial/'\n",
    "config_file = local_path/'hextof_config.yaml'\n",
    "assert config_file.exists()\n",
    "config={\"core\": {\"paths\": {\n",
    "    \"data_raw_dir\": \"/asap3/flash/gpfs/pg2/2023/data/11019101/raw/hdf/offline/fl1user3\", \n",
    "    \"data_parquet_dir\": \"/home/agustsss/temp/sed_parquet/\"\n",
    "}}}"
   ]
  },
  {
   "cell_type": "markdown",
   "metadata": {},
   "source": [
    "# chessy run for spatial calibration"
   ]
  },
  {
   "cell_type": "code",
   "execution_count": null,
   "metadata": {},
   "outputs": [],
   "source": [
    "sp_chessy = SedProcessor(runs=[44762], config=config, user_config=config_file, system_config={}, collect_metadata=False)\n",
    "sp_chessy.add_jitter()"
   ]
  },
  {
   "cell_type": "code",
   "execution_count": null,
   "metadata": {},
   "outputs": [],
   "source": [
    "axes = ['dldPosY', 'dldPosX']\n",
    "bins = [240, 240]\n",
    "ranges = [[420,900], [420,900]]"
   ]
  },
  {
   "cell_type": "code",
   "execution_count": null,
   "metadata": {},
   "outputs": [],
   "source": [
    "res_chessy = sp_chessy.compute(bins=bins, axes=axes, ranges=ranges)"
   ]
  },
  {
   "cell_type": "code",
   "execution_count": null,
   "metadata": {},
   "outputs": [],
   "source": [
    "plt.figure()\n",
    "res_chessy.plot(robust=True)"
   ]
  },
  {
   "cell_type": "code",
   "execution_count": null,
   "metadata": {},
   "outputs": [],
   "source": [
    "p1 = 562,707\n",
    "p2 = 756,754\n",
    "plt.plot([p1[0], p2[0]], [p1[1], p2[1]], 'r-')\n",
    "distance = np.sqrt((p1[0]-p2[0])**2 + (p1[1]-p2[1])**2)\n",
    "px_to_um = 200/distance\n",
    "px_to_um"
   ]
  },
  {
   "cell_type": "code",
   "execution_count": null,
   "metadata": {},
   "outputs": [],
   "source": [
    "px_to_um * 300"
   ]
  },
  {
   "cell_type": "code",
   "execution_count": null,
   "metadata": {},
   "outputs": [],
   "source": [
    "sp_chessy.dataframe['posx'] = sp_chessy.dataframe['dldPosX'] * px_to_um\n",
    "sp_chessy.dataframe['posy'] = sp_chessy.dataframe['dldPosY'] * px_to_um\n"
   ]
  },
  {
   "cell_type": "markdown",
   "metadata": {},
   "source": [
    "# Loading Data from run44798\n",
    "* Optical spot profile - FoV=450 µm\n",
    "* transmission = 1.0"
   ]
  },
  {
   "cell_type": "code",
   "execution_count": null,
   "metadata": {},
   "outputs": [],
   "source": [
    "sp98 = SedProcessor(runs=[44798], config=config, user_config=config_file, system_config={}, collect_metadata=False)\n",
    "sp98.add_jitter()"
   ]
  },
  {
   "cell_type": "code",
   "execution_count": null,
   "metadata": {},
   "outputs": [],
   "source": [
    "axes = ['dldPosY', 'dldPosX']\n",
    "bins = [240, 240]\n",
    "ranges = [[420,900], [420,900]]\n",
    "res98 = sp98.compute(bins=bins, axes=axes, ranges=ranges)"
   ]
  },
  {
   "cell_type": "code",
   "execution_count": null,
   "metadata": {},
   "outputs": [],
   "source": [
    "plt.figure()\n",
    "res.plot(robust=True)\n"
   ]
  },
  {
   "cell_type": "markdown",
   "metadata": {},
   "source": [
    "# using LMFIT"
   ]
  },
  {
   "cell_type": "code",
   "execution_count": null,
   "metadata": {},
   "outputs": [],
   "source": [
    "import matplotlib.pyplot as plt\n",
    "import numpy as np\n",
    "\n",
    "import lmfit\n"
   ]
  },
  {
   "cell_type": "code",
   "execution_count": null,
   "metadata": {},
   "outputs": [],
   "source": [
    "def gaussian2D(\n",
    "        x: float,\n",
    "        y: float, \n",
    "        amplitude:float, \n",
    "        xo:float, \n",
    "        yo: float, \n",
    "        sigma_x:float, \n",
    "        sigma_y:float, \n",
    "        theta:float, \n",
    "        offset:float\n",
    "    ) -> np.ndarray:# -> Any:\n",
    "    \"\"\" 2D gaussian function\n",
    "    \n",
    "    Args:\n",
    "        x (np.ndarray): x values\n",
    "        y (np.ndarray): y values\n",
    "        amplitude (float): amplitude\n",
    "        xo (float): center x\n",
    "        yo (float): center y\n",
    "        sigma_x (float): sigma x\n",
    "        sigma_y (float): sigma y\n",
    "        theta (float): rotation angle\n",
    "        offset (float): offset\n",
    "    \n",
    "    Returns:\n",
    "        np.ndarray: 2D gaussian\n",
    "    \"\"\"\n",
    "#     x, y = M\n",
    "    xo = float(xo)\n",
    "    yo = float(yo)\n",
    "    if sigma_x <= 0 or sigma_y <= 0:\n",
    "        return np.zeros_like(x)\n",
    "    a = (np.cos(theta)**2)/(2*sigma_x**2) + (np.sin(theta)**2)/(2*sigma_y**2)\n",
    "    b = -(np.sin(2*theta))/(4*sigma_x**2) + (np.sin(2*theta))/(4*sigma_y**2)\n",
    "    c = (np.sin(theta)**2)/(2*sigma_x**2) + (np.cos(theta)**2)/(2*sigma_y**2)\n",
    "    return offset + amplitude*np.exp( - (a*((x-xo)**2) + 2*b*(x-xo)*(y-yo)\n",
    "                        + c*((y-yo)**2)))\n",
    "\n",
    "def sigma_to_fwhm(sigma):\n",
    "    return 2*np.sqrt(2*np.log(2))*sigma\n",
    "\n",
    "from sed.utilities.optical import effective_gaussian_area, fluence \n"
   ]
  },
  {
   "cell_type": "code",
   "execution_count": null,
   "metadata": {},
   "outputs": [],
   "source": [
    "from typing import Dict, Optional, Sequence\n",
    "import xarray as xr\n",
    "from lmfit import Model\n",
    "\n",
    "def fit_spot_size(\n",
    "        data: xr.DataArray,\n",
    "        params: Optional[Dict[str, float]] = None,\n",
    "        photoemission_order: int = 1,\n",
    "        pulse_energy: Optional[float] = None,\n",
    "        plot: bool = True,\n",
    "        figsize=(6,6),\n",
    "        normalize: bool = False,\n",
    "    ) -> lmfit.model.ModelResult:\n",
    "    \"\"\" Fit a 2D Gaussian to the spot size data.\n",
    "    \n",
    "    Args:\n",
    "        data (xr.DataArray): DataArray containing the spot size data.\n",
    "        params (dict): Initial guess for the Gaussian parameters.\n",
    "        photoemission_order (int): The order of photoemission. 1 for linear, 2 for quadratic.\n",
    "        plot (bool): Whether to plot the result.\n",
    "        normalize (bool): Whether to normalize the data. If true, the data will be divided by its \n",
    "            maximum value. \n",
    "    \n",
    "    Returns:\n",
    "        The fitted model result.\n",
    "    \"\"\"\n",
    "    if data.ndim != 2:\n",
    "        raise ValueError('The data should be a 2D array.')\n",
    "    dims = data.dims\n",
    "\n",
    "    ux = data.coords[dims[0]].attrs.get('units','px')\n",
    "    uy  = data.coords[dims[1]].attrs.get('units','px')\n",
    "    assert ux == uy, 'The units of the x and y axes should be the same.'\n",
    "    x = data.coords[dims[0]].values\n",
    "    y = data.coords[dims[1]].values\n",
    "    X,Y = np.meshgrid(x,y)\n",
    "    z = data.values\n",
    "    if normalize:\n",
    "        z = z/np.amax(z)\n",
    "    error = np.sqrt(z+1)\n",
    "\n",
    "    model = Model(gaussian2D, independent_vars=['x', 'y'], nan_policy='omit')\n",
    "    params = model.make_params()\n",
    "\n",
    "    params['amplitude'].set(value=z.max(), min=0)\n",
    "    params['xo'].set(value=x.mean(), min=x.min(), max=x.max())\n",
    "    xamp = np.abs(x.max()-x.min())\n",
    "    yamp = np.abs(y.max()-y.min())\n",
    "    params['sigma_x'].set(value=xamp/2, min=xamp/100)\n",
    "    params['yo'].set(value=y.mean(), min=y.min(), max=y.max())\n",
    "    params['sigma_y'].set(value=yamp/2, min=yamp/100)\n",
    "    params['theta'].set(value=0, min=0, max=np.pi)\n",
    "    params['offset'].set(value=0)\n",
    "\n",
    "    result = model.fit(z, x=X, y=Y, params=params, weights=1/error)\n",
    "\n",
    "    if plot:\n",
    "        fig = plt.figure(figsize=figsize, layout='tight')\n",
    "        # [left, bottom, width, height]\n",
    "        img_ax = fig.add_axes([0.1, 0.3, 0.5, 0.5], xticklabels=[], yticklabels=[])\n",
    "        xproj_ax = fig.add_axes([0.1, 0.1, 0.5, 0.2], yticklabels=[])\n",
    "        yproj_ax = fig.add_axes([0.6, 0.3, 0.2, 0.5], xticklabels=[])\n",
    "\n",
    "        yproj_ax.yaxis.set_label_position(\"right\")\n",
    "        yproj_ax.yaxis.set_ticks_position(\"right\")\n",
    "        # yproj_ax.xaxis.set_label_position(\"top\")\n",
    "        # yproj_ax.xaxis.set_ticks_position(\"top\") \n",
    "        # xproj_ax.set_xticklabels(np.arange(0, max(x) * px_to_um, 5))\n",
    "        # yproj_ax.set_yticklabels(np.arange(0, max(y) * px_to_um, 5))\n",
    "\n",
    "        xproj_ax.set_xlabel(dims[0])\n",
    "        yproj_ax.set_ylabel(dims[1])\n",
    "        for ax in [img_ax, yproj_ax, xproj_ax]:\n",
    "            ax.tick_params(\n",
    "                axis=\"both\",\n",
    "                direction=\"in\",\n",
    "                bottom=True,\n",
    "                top=True,\n",
    "                left=True,\n",
    "                right=True,\n",
    "                which=\"both\",\n",
    "            )\n",
    "        # data.plot(ax=img_ax, cmap=\"terrain\", robust=True)\n",
    "        extent = [x.max(), x.min(), y.min(), y.max()]\n",
    "        img_ax.imshow(z, cmap=\"terrain\", origin='lower', extent=extent)  # gray_r\n",
    "        # data.plot.imshow(ax=img_ax, cmap=\"terrain\", robust=True)\n",
    "        # img_ax.contour(result.best_fit, cmap=\"inferno\", fill=False, origin='lower', extent=extent, )  # ,colors='nipy_spectral')\n",
    "        xproj_ax.plot(x, z.max(axis=0))\n",
    "        xproj_ax.plot(x, result.best_fit.max(0))\n",
    "        xproj_ax.set_xlim(min(x), max(x))\n",
    "        yproj_ax.plot(-z.max(axis=1), y)\n",
    "        yproj_ax.plot(-result.best_fit.max(1), y)\n",
    "        yproj_ax.set_ylim(min(y), max(y))\n",
    "\n",
    "        FWHM_x = sigma_to_fwhm(result.params['sigma_x'].value)\n",
    "        FWHM_y = sigma_to_fwhm(result.params['sigma_y'].value)\n",
    "\n",
    "        x0, y0 = result.params['xo'].value, result.params['yo'].value\n",
    "        theta = result.params['theta'].value\n",
    "        x1 = x0 + 0.5 * FWHM_x * np.cos(theta)\n",
    "        y1 = y0 + 0.5 * FWHM_x * np.sin(theta)\n",
    "        x2 = x0 - 0.5 * FWHM_x * np.cos(theta)\n",
    "        y2 = y0 - 0.5 * FWHM_x * np.sin(theta)\n",
    "        img_ax.plot([x1, x2], [y1, y2], 'k-')\n",
    "\n",
    "        x1 = x0 + 0.5 * FWHM_y * np.cos(theta + np.pi/2)\n",
    "        y1 = y0 + 0.5 * FWHM_y * np.sin(theta + np.pi/2)\n",
    "        x2 = x0 - 0.5 * FWHM_y * np.cos(theta + np.pi/2)\n",
    "        y2 = y0 - 0.5 * FWHM_y * np.sin(theta + np.pi/2)\n",
    "        img_ax.plot([x1, x2], [y1, y2], 'k-')\n",
    "\n",
    "        eff_area = effective_gaussian_area(\n",
    "            (FWHM_x, FWHM_y), photoemission_order=photoemission_order, sigma_is_fwhm=True\n",
    "        )\n",
    "        report_label = \"Parameters:\\n\"\n",
    "        report_label += f\"Gaussian FWHM\\nx={FWHM_x:.2f} {ux} | y={FWHM_y:.2f} {uy}\\n\"\n",
    "        report_label += f\"Eff. Area: {eff_area:,.2f} {ux}$^2$\\n\"\n",
    "        report_label += f'center: {x0:.2f} {ux}, {y0:.2f} {uy}\\n'\n",
    "\n",
    "        if pulse_energy is not None:\n",
    "            # report_label += f\"OD mean: {pulse_energy:.2f}\\n\"\n",
    "\n",
    "            # pe = pulse_energy(optical_diode_value, od_2_uj=od_2_uj, T=optical_transmission)\n",
    "            report_label += f\"Pulse energy: {1000*pulse_energy:.3f} nJ\\n\"\n",
    "            fl = fluence(pulse_energy, eff_area)\n",
    "            report_label += f\"Fluence: {fl:.3f} mJ/cm²\\n\"\n",
    "\n",
    "        t = img_ax.text(\n",
    "            x.min() * .98,\n",
    "            y.min() * .98,\n",
    "            report_label,\n",
    "            color=\"Black\",\n",
    "            va=\"top\",\n",
    "        )  # fontsize='small',)\n",
    "    return result\n"
   ]
  },
  {
   "cell_type": "code",
   "execution_count": null,
   "metadata": {},
   "outputs": [],
   "source": [
    "def circle_mask(x,y,xc,yc,r):\n",
    "    return (x-xc)**2 + (y-yc)**2 < r**2\n",
    "def apply_circle_mask(r, r_mask, xc=None, yc=None):\n",
    "    if xc is None:\n",
    "        xc = r.dldPosX.mean()\n",
    "    if yc is None:\n",
    "        yc = r.dldPosY.mean()\n",
    "    return r.where(circle_mask(r.dldPosX, r.dldPosY, xc, yc, r_mask))\n"
   ]
  },
  {
   "cell_type": "code",
   "execution_count": null,
   "metadata": {},
   "outputs": [],
   "source": [
    "res['dldPosX'].attrs['units'] = 'µm'\n",
    "res['dldPosY'].attrs['units'] = 'µm'\n",
    "fr98 = fit_spot_size(res, pulse_energy=1, plot=True)"
   ]
  },
  {
   "cell_type": "markdown",
   "metadata": {},
   "source": []
  },
  {
   "cell_type": "code",
   "execution_count": null,
   "metadata": {},
   "outputs": [],
   "source": [
    "config={\"core\": {\"paths\": {\n",
    "    \"data_raw_dir\": \"/asap3/flash/gpfs/pg2/2023/data/11019101/raw/hdf/offline/fl1user3\", \n",
    "    \"data_parquet_dir\": \"/home/agustsss/temp/sed_parquet/\"\n",
    "}}}\n",
    "sp98 = SedProcessor(runs=[44798], config=config, user_config=config_file, system_config={}, collect_metadata=False)\n",
    "sp98.add_jitter()\n",
    "sp99 = SedProcessor(runs=[44799], config=config, user_config=config_file, system_config={}, collect_metadata=False)\n",
    "sp99.add_jitter()"
   ]
  },
  {
   "cell_type": "code",
   "execution_count": null,
   "metadata": {},
   "outputs": [],
   "source": [
    "axes = ['dldPosY', 'dldPosX']\n",
    "bins = [240, 240]\n",
    "ranges = [[420,900], [420,900]]\n",
    "res98 = sp98.compute(bins=bins, axes=axes, ranges=ranges)\n",
    "res99 = sp99.compute(bins=bins, axes=axes, ranges=ranges)\n"
   ]
  },
  {
   "cell_type": "code",
   "execution_count": null,
   "metadata": {},
   "outputs": [],
   "source": [
    "fig,ax = plt.subplots(1,2)\n",
    "res98.plot(ax=ax[0], robust=True)\n",
    "res99.plot(ax=ax[1], robust=True)"
   ]
  },
  {
   "cell_type": "code",
   "execution_count": null,
   "metadata": {},
   "outputs": [],
   "source": [
    "fr98 = fit_spot_size(res98, pulse_energy=1, plot=True, normalize=True)\n",
    "fr99 = fit_spot_size(res99, pulse_energy=1, plot=True, normalize=False)"
   ]
  },
  {
   "cell_type": "code",
   "execution_count": null,
   "metadata": {},
   "outputs": [],
   "source": [
    "fr99"
   ]
  }
 ],
 "metadata": {
  "kernelspec": {
   "display_name": "sed38",
   "language": "python",
   "name": "sed38"
  },
  "language_info": {
   "codemirror_mode": {
    "name": "ipython",
    "version": 3
   },
   "file_extension": ".py",
   "mimetype": "text/x-python",
   "name": "python",
   "nbconvert_exporter": "python",
   "pygments_lexer": "ipython3",
   "version": "3.8.18"
  }
 },
 "nbformat": 4,
 "nbformat_minor": 2
}
