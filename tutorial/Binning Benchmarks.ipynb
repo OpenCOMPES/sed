{
 "cells": [
  {
   "attachments": {},
   "cell_type": "markdown",
   "id": "8ad4167a-e4e7-498d-909a-c04da9f177ed",
   "metadata": {
    "tags": []
   },
   "source": [
    "# Binning demonstration on locally generated fake data\n",
    "In this example, we generate a table with random data simulating a single event dataset.\n",
    "We showcase the binning method, first on a simple single table using the bin_partition method and then in the distributed mehthod bin_dataframe, using daks dataframes.\n",
    "The first method is never really called directly, as it is simply the function called by the bin_dataframe on each partition of the dask dataframe."
   ]
  },
  {
   "cell_type": "code",
   "execution_count": null,
   "id": "fb045e17-fa89-4c11-9d51-7f06e80d96d5",
   "metadata": {},
   "outputs": [],
   "source": [
    "import sys\n",
    "\n",
    "import numpy as np\n",
    "import pandas as pd\n",
    "import dask.dataframe\n",
    "\n",
    "import matplotlib.pyplot as plt\n",
    "\n",
    "import timeit\n",
    "\n",
    "from sed.binning import bin_partition, bin_dataframe"
   ]
  },
  {
   "attachments": {},
   "cell_type": "markdown",
   "id": "42a6afaa-17dd-4637-ba75-a28c4ead1adf",
   "metadata": {},
   "source": [
    "# Generate Fake Data"
   ]
  },
  {
   "cell_type": "code",
   "execution_count": null,
   "id": "2aa8df59-224a-46a2-bb77-0277ff504996",
   "metadata": {},
   "outputs": [],
   "source": [
    "# 1 Billion events, ~ 30 GByte.\n",
    "n_pts = 1000000000\n",
    "#n_pts = 1000000\n",
    "cols = [\"posx\", \"posy\", \"energy\", \"delay\"]\n",
    "df = pd.DataFrame(np.random.randn(n_pts, len(cols)), columns=cols)\n",
    "ddf = dask.dataframe.from_pandas(df, npartitions=100)\n",
    "ddf"
   ]
  },
  {
   "cell_type": "code",
   "execution_count": null,
   "id": "143e383b",
   "metadata": {},
   "outputs": [],
   "source": [
    "bench_fake = {}\n",
    "hist_modes = [\"numba\", \"numpy\"]\n",
    "for mode in hist_modes:\n",
    "    bench_fake[mode] = {}"
   ]
  },
  {
   "cell_type": "code",
   "execution_count": null,
   "id": "cbed3261-187c-498d-8ee0-0c3a3c8a8c1e",
   "metadata": {},
   "outputs": [],
   "source": [
    "# benchmark 1D binning\n",
    "axes = [\"posx\"]\n",
    "ranges = [(-2, 2)]\n",
    "#for bins in [[100], [1000], [10000]]:\n",
    "bin_dataframe(df=ddf, bins=[100], axes=axes, ranges=ranges, hist_mode=\"numba\", pbar=False, n_cores=20)\n",
    "for bins in [[100], [1000], [10000], [100000], [1000000], [10000000], [100000000]]:\n",
    "    for hist_mode in hist_modes:\n",
    "        print(f\"hist_mode: {hist_mode}, bins: {bins}\")\n",
    "        coords = {ax: np.linspace(r[0], r[1], n) for ax, r, n in zip(axes, ranges, bins)}\n",
    "        timer = timeit.Timer('bin_dataframe(df=ddf, bins=bins, axes=axes, ranges=ranges, hist_mode=hist_mode, pbar=False, n_cores=20)', globals=globals())\n",
    "        bench_fake[hist_mode][f\"{bins}\"] = timer.repeat(3, number=1)\n",
    "        timer = timeit.Timer('bin_dataframe(df=ddf, bins=coords, hist_mode=hist_mode, pbar=False, n_cores=20)', globals=globals())\n",
    "        bench_fake[hist_mode][f\"array_{bins}\"] = timer.repeat(3, number=1)"
   ]
  },
  {
   "cell_type": "code",
   "execution_count": null,
   "id": "bc5dd295",
   "metadata": {},
   "outputs": [],
   "source": [
    "# benchmark 4D binning\n",
    "axes = [\"posx\", \"posy\", \"energy\", \"delay\"]\n",
    "ranges = [(-2, 2), (-2, 2), (-2, 2), (-2, 2)]\n",
    "#for bins in [[10, 10, 10, 10], [11, 11, 11, 11]]:\n",
    "for bins in [[10, 10, 10, 10], [50, 50, 50, 50], [100, 100, 100, 100]]:\n",
    "    for hist_mode in hist_modes:\n",
    "        print(f\"hist_mode: {hist_mode}, bins: {bins}\")\n",
    "        coords = {ax: np.linspace(r[0], r[1], n) for ax, r, n in zip(axes, ranges, bins)}\n",
    "        timer = timeit.Timer('bin_dataframe(df=ddf, bins=bins, axes=axes, ranges=ranges, hist_mode=hist_mode, pbar=False, n_cores=20)', globals=globals())\n",
    "        bench_fake[hist_mode][f\"{bins}\"] = timer.repeat(3, number=1)\n",
    "        timer = timeit.Timer('bin_dataframe(df=ddf, bins=coords, hist_mode=hist_mode, pbar=False, n_cores=20)', globals=globals())\n",
    "        bench_fake[hist_mode][f\"array_{bins}\"] = timer.repeat(3, number=1)"
   ]
  },
  {
   "cell_type": "code",
   "execution_count": null,
   "id": "f9005773",
   "metadata": {},
   "outputs": [],
   "source": [
    "bench_fake"
   ]
  },
  {
   "cell_type": "code",
   "execution_count": null,
   "id": "99d7d136-b677-4c16-bc8f-31ba8216579c",
   "metadata": {},
   "outputs": [],
   "source": [
    "fig, axs = plt.subplots(2, 1, figsize=(8, 5), constrained_layout=True)\n",
    "#bins = [100, 1000, 10000]\n",
    "bins = [100, 1000, 10000, 100000, 1000000, 10000000, 100000000]\n",
    "res1D_numba = [np.mean(bench_fake[\"numba\"][f\"{[bin]}\"]) for bin in bins]\n",
    "res1D_numba_err = [np.std(bench_fake[\"numba\"][f\"{[bin]}\"]) for bin in bins]\n",
    "res1D_numpy = [np.mean(bench_fake[\"numpy\"][f\"{[bin]}\"]) for bin in bins]\n",
    "res1D_numpy_err = [np.std(bench_fake[\"numpy\"][f\"{[bin]}\"]) for bin in bins]\n",
    "res1D_numba_array = [np.mean(bench_fake[\"numba\"][f\"array_{[bin]}\"]) for bin in bins]\n",
    "res1D_numba_array_err = [np.std(bench_fake[\"numba\"][f\"array_{[bin]}\"]) for bin in bins]\n",
    "res1D_numpy_array = [np.mean(bench_fake[\"numpy\"][f\"array_{[bin]}\"]) for bin in bins]\n",
    "res1D_numpy_array_err = [np.std(bench_fake[\"numpy\"][f\"array_{[bin]}\"]) for bin in bins]\n",
    "axs[0].set_title(\"Fake data 1D binning\")\n",
    "axs[0].set_xscale(\"log\")\n",
    "axs[0].set_yscale(\"log\")\n",
    "axs[0].errorbar(bins, res1D_numba, res1D_numba_err, label=\"numba bins\")\n",
    "axs[0].errorbar(bins, res1D_numpy, res1D_numpy_err, label=\"numpy bins\")\n",
    "axs[0].errorbar(bins, res1D_numba_array, res1D_numba_array_err, label=\"numba arrays\")\n",
    "axs[0].errorbar(bins, res1D_numpy_array, res1D_numpy_array_err, label=\"numpy arrays\")\n",
    "axs[0].set_xlabel('# Bins')\n",
    "axs[0].set_ylabel('Time (s)')\n",
    "axs[0].legend()\n",
    "#bins = [[10, 10, 10, 10], [11, 11, 11, 11]]\n",
    "bins = [[10, 10, 10, 10], [50, 50, 50, 50], [100, 100, 100, 100]]\n",
    "bins_s = [f\"{bin}\" for bin in bins]\n",
    "res4D_numba = [np.mean(bench_fake[\"numba\"][f\"{bin}\"]) for bin in bins]\n",
    "res4D_numba_err = [np.std(bench_fake[\"numba\"][f\"{bin}\"]) for bin in bins]\n",
    "res4D_numpy = [np.mean(bench_fake[\"numpy\"][f\"{bin}\"]) for bin in bins]\n",
    "res4D_numpy_err = [np.std(bench_fake[\"numpy\"][f\"{bin}\"]) for bin in bins]\n",
    "res4D_numba_array = [np.mean(bench_fake[\"numba\"][f\"array_{bin}\"]) for bin in bins]\n",
    "res4D_numba_array_err = [np.std(bench_fake[\"numba\"][f\"array_{bin}\"]) for bin in bins]\n",
    "res4D_numpy_array = [np.mean(bench_fake[\"numpy\"][f\"array_{bin}\"]) for bin in bins]\n",
    "res4D_numpy_array_err = [np.std(bench_fake[\"numpy\"][f\"array_{bin}\"]) for bin in bins]\n",
    "axs[1].set_title(\"Fake data 4D binning\")\n",
    "axs[1].set_yscale(\"log\")\n",
    "axs[1].errorbar(bins_s, res4D_numba, res4D_numba_err, label=\"numba bins\")\n",
    "axs[1].errorbar(bins_s, res4D_numpy, res4D_numpy_err, label=\"numpy bins\")\n",
    "axs[1].errorbar(bins_s, res4D_numba_array, res4D_numba_array_err, label=\"numba arrays\")\n",
    "axs[1].errorbar(bins_s, res4D_numpy_array, res4D_numpy_array_err, label=\"numpy arrays\")\n",
    "axs[1].set_xlabel('Bin shape')\n",
    "axs[1].set_ylabel('Time (s)')\n",
    "axs[1].legend()\n"
   ]
  },
  {
   "attachments": {},
   "cell_type": "markdown",
   "id": "d6cf5cc1",
   "metadata": {},
   "source": []
  },
  {
   "cell_type": "code",
   "execution_count": null,
   "id": "b8adf386-669f-4b77-920f-6dfec7b637c9",
   "metadata": {},
   "outputs": [],
   "source": [
    "import sed\n",
    "import os"
   ]
  },
  {
   "cell_type": "code",
   "execution_count": null,
   "id": "29703368",
   "metadata": {},
   "outputs": [],
   "source": [
    "data_path = '../../' # Put in Path to a storage of at least 20 Gbyte free space.\n",
    "if not os.path.exists(data_path + \"/WSe2.zip\"):\n",
    "    os.system(f\"curl --output {data_path}/WSe2.zip https://zenodo.org/record/6369728/files/WSe2.zip\")\n",
    "if not os.path.isdir(data_path + \"/Scan049_1\") or not os.path.isdir(data_path + \"energycal_2019_01_08/\"):\n",
    "    os.system(f\"unzip -d {data_path} -o {data_path}/WSe2.zip\")"
   ]
  },
  {
   "cell_type": "code",
   "execution_count": null,
   "id": "a97508d1",
   "metadata": {},
   "outputs": [],
   "source": [
    "# The Scan directory\n",
    "fdir = data_path + '/Scan049_1'\n",
    "# create sed processor using the config file:\n",
    "sp = sed.SedProcessor(folder=fdir, config=\"../tests/data/config/config_local.yaml\")"
   ]
  },
  {
   "cell_type": "code",
   "execution_count": null,
   "id": "eceb414f",
   "metadata": {},
   "outputs": [],
   "source": [
    "bench_real = {}\n",
    "hist_modes = [\"numba\", \"numpy\"]\n",
    "for mode in hist_modes:\n",
    "    bench_real[mode] = {}"
   ]
  },
  {
   "cell_type": "code",
   "execution_count": null,
   "id": "596116ed",
   "metadata": {},
   "outputs": [],
   "source": [
    "# benchmark 1D binning\n",
    "axes = [\"X\"]\n",
    "ranges = [(0, 2024)]\n",
    "#for bins in [[100], [1000], [10000]]:\n",
    "bin_dataframe(df=sp._dataframe, bins=[100], axes=axes, ranges=ranges, hist_mode=\"numba\", pbar=False, n_cores=20)\n",
    "for bins in [[100], [1000], [10000], [100000], [1000000], [10000000], [100000000]]:\n",
    "    for hist_mode in hist_modes:\n",
    "        print(f\"hist_mode: {hist_mode}, bins: {bins}\")\n",
    "        coords = {ax: np.linspace(r[0], r[1], n) for ax, r, n in zip(axes, ranges, bins)}\n",
    "        timer = timeit.Timer('bin_dataframe(df=sp._dataframe, bins=bins, axes=axes, ranges=ranges, hist_mode=hist_mode, pbar=False, n_cores=20)', globals=globals())\n",
    "        bench_real[hist_mode][f\"{bins}\"] = timer.repeat(3, number=1)\n",
    "        timer = timeit.Timer('bin_dataframe(df=sp._dataframe, bins=coords, hist_mode=hist_mode, pbar=False, n_cores=20)', globals=globals())\n",
    "        bench_real[hist_mode][f\"array_{bins}\"] = timer.repeat(3, number=1)"
   ]
  },
  {
   "cell_type": "code",
   "execution_count": null,
   "id": "5c7e65b7",
   "metadata": {},
   "outputs": [],
   "source": [
    "# benchmark 4D binning\n",
    "axes = [\"X\", \"Y\", \"t\", \"ADC\"]\n",
    "ranges = [(0, 2024), (0, 2024), (65000, 70000), (0, 6500)]\n",
    "#for bins in [[10, 10, 10, 10], [11, 11, 11, 11]]:\n",
    "for bins in [[10, 10, 10, 10], [50, 50, 50, 50], [100, 100, 100, 100]]:\n",
    "    for hist_mode in hist_modes:\n",
    "        print(f\"hist_mode: {hist_mode}, bins: {bins}\")\n",
    "        coords = {ax: np.linspace(r[0], r[1], n) for ax, r, n in zip(axes, ranges, bins)}\n",
    "        timer = timeit.Timer('bin_dataframe(df=sp._dataframe, bins=bins, axes=axes, ranges=ranges, hist_mode=hist_mode, pbar=False, n_cores=20)', globals=globals())\n",
    "        bench_real[hist_mode][f\"{bins}\"] = timer.repeat(3, number=1)\n",
    "        timer = timeit.Timer('bin_dataframe(df=sp._dataframe, bins=coords, hist_mode=hist_mode, pbar=False, n_cores=20)', globals=globals())\n",
    "        bench_real[hist_mode][f\"array_{bins}\"] = timer.repeat(3, number=1)"
   ]
  },
  {
   "cell_type": "code",
   "execution_count": null,
   "id": "3d27b55a",
   "metadata": {},
   "outputs": [],
   "source": [
    "bench_real"
   ]
  },
  {
   "cell_type": "code",
   "execution_count": null,
   "id": "bae42003",
   "metadata": {},
   "outputs": [],
   "source": [
    "fig, axs = plt.subplots(2, 1, figsize=(8, 5), constrained_layout=True)\n",
    "#bins = [100, 1000, 10000]\n",
    "bins = [100, 1000, 10000, 100000, 1000000, 10000000, 100000000]\n",
    "res1D_numba = [np.mean(bench_real[\"numba\"][f\"{[bin]}\"]) for bin in bins]\n",
    "res1D_numba_err = [np.std(bench_real[\"numba\"][f\"{[bin]}\"]) for bin in bins]\n",
    "res1D_numpy = [np.mean(bench_real[\"numpy\"][f\"{[bin]}\"]) for bin in bins]\n",
    "res1D_numpy_err = [np.std(bench_real[\"numpy\"][f\"{[bin]}\"]) for bin in bins]\n",
    "res1D_numba_array = [np.mean(bench_real[\"numba\"][f\"array_{[bin]}\"]) for bin in bins]\n",
    "res1D_numba_array_err = [np.std(bench_real[\"numba\"][f\"array_{[bin]}\"]) for bin in bins]\n",
    "res1D_numpy_array = [np.mean(bench_real[\"numpy\"][f\"array_{[bin]}\"]) for bin in bins]\n",
    "res1D_numpy_array_err = [np.std(bench_real[\"numpy\"][f\"array_{[bin]}\"]) for bin in bins]\n",
    "axs[0].set_title(\"Real data 1D binning\")\n",
    "axs[0].set_xscale(\"log\")\n",
    "axs[0].set_yscale(\"log\")\n",
    "axs[0].errorbar(bins, res1D_numba, res1D_numba_err, label=\"numba bins\")\n",
    "axs[0].errorbar(bins, res1D_numpy, res1D_numpy_err, label=\"numpy bins\")\n",
    "axs[0].errorbar(bins, res1D_numba_array, res1D_numba_array_err, label=\"numba arrays\")\n",
    "axs[0].errorbar(bins, res1D_numpy_array, res1D_numpy_array_err, label=\"numpy arrays\")\n",
    "axs[0].set_xlabel('# Bins')\n",
    "axs[0].set_ylabel('Time (s)')\n",
    "axs[0].legend()\n",
    "#bins = [[10, 10, 10, 10], [11, 11, 11, 11]]\n",
    "bins = [[10, 10, 10, 10], [50, 50, 50, 50], [100, 100, 100, 100]]\n",
    "bins_s = [f\"{bin}\" for bin in bins]\n",
    "res4D_numba = [np.mean(bench_real[\"numba\"][f\"{bin}\"]) for bin in bins]\n",
    "res4D_numba_err = [np.std(bench_real[\"numba\"][f\"{bin}\"]) for bin in bins]\n",
    "res4D_numpy = [np.mean(bench_real[\"numpy\"][f\"{bin}\"]) for bin in bins]\n",
    "res4D_numpy_err = [np.std(bench_real[\"numpy\"][f\"{bin}\"]) for bin in bins]\n",
    "res4D_numba_array = [np.mean(bench_real[\"numba\"][f\"array_{bin}\"]) for bin in bins]\n",
    "res4D_numba_array_err = [np.std(bench_real[\"numba\"][f\"array_{bin}\"]) for bin in bins]\n",
    "res4D_numpy_array = [np.mean(bench_real[\"numpy\"][f\"array_{bin}\"]) for bin in bins]\n",
    "res4D_numpy_array_err = [np.std(bench_real[\"numpy\"][f\"array_{bin}\"]) for bin in bins]\n",
    "axs[1].set_title(\"Real data 4D binning\")\n",
    "axs[1].set_yscale(\"log\")\n",
    "axs[1].errorbar(bins_s, res4D_numba, res4D_numba_err, label=\"numba bins\")\n",
    "axs[1].errorbar(bins_s, res4D_numpy, res4D_numpy_err, label=\"numpy bins\")\n",
    "axs[1].errorbar(bins_s, res4D_numba_array, res4D_numba_array_err, label=\"numba arrays\")\n",
    "axs[1].errorbar(bins_s, res4D_numpy_array, res4D_numpy_array_err, label=\"numpy arrays\")\n",
    "axs[1].set_xlabel('Bin shape')\n",
    "axs[1].set_ylabel('Time (s)')\n",
    "axs[1].legend()"
   ]
  },
  {
   "cell_type": "code",
   "execution_count": null,
   "id": "4c407015",
   "metadata": {},
   "outputs": [],
   "source": [
    "sp.add_jitter()\n",
    "sp.apply_momentum_calibration()\n",
    "sp.apply_energy_correction()\n",
    "sp.append_energy_axis()\n",
    "delay_range = (-500, 1500)\n",
    "sp.calibrate_delay_axis(delay_range=delay_range)"
   ]
  },
  {
   "cell_type": "code",
   "execution_count": null,
   "id": "8a6798b1",
   "metadata": {},
   "outputs": [],
   "source": [
    "bench_converted = {}\n",
    "hist_modes = [\"numba\", \"numpy\"]\n",
    "for mode in hist_modes:\n",
    "    bench_converted[mode] = {}"
   ]
  },
  {
   "cell_type": "code",
   "execution_count": null,
   "id": "6df336a1",
   "metadata": {},
   "outputs": [],
   "source": [
    "# benchmark 1D binning\n",
    "axes = ['kx']\n",
    "ranges = [(-2, 2)]\n",
    "#for bins in [[100], [1000], [10000]]:\n",
    "bin_dataframe(df=sp._dataframe, bins=[100], axes=axes, ranges=ranges, hist_mode=\"numba\", pbar=False, n_cores=20)\n",
    "for bins in [[100], [1000], [10000], [100000], [1000000], [10000000], [100000000]]:\n",
    "    for hist_mode in hist_modes:\n",
    "        print(f\"hist_mode: {hist_mode}, bins: {bins}\")\n",
    "        coords = {ax: np.linspace(r[0], r[1], n) for ax, r, n in zip(axes, ranges, bins)}\n",
    "        timer = timeit.Timer('bin_dataframe(df=sp._dataframe, bins=bins, axes=axes, ranges=ranges, hist_mode=hist_mode, pbar=False, n_cores=20)', globals=globals())\n",
    "        bench_converted[hist_mode][f\"{bins}\"] = timer.repeat(3, number=1)\n",
    "        timer = timeit.Timer('bin_dataframe(df=sp._dataframe, bins=coords, hist_mode=hist_mode, pbar=False, n_cores=20)', globals=globals())\n",
    "        bench_converted[hist_mode][f\"array_{bins}\"] = timer.repeat(3, number=1)"
   ]
  },
  {
   "cell_type": "code",
   "execution_count": null,
   "id": "db9a66e0",
   "metadata": {},
   "outputs": [],
   "source": [
    "# benchmark 4D binning\n",
    "axes = ['kx', 'ky', 'E', 'delay']\n",
    "ranges = [(-2, 2), (-2, 2), (-4, 2), (-600, 1600)]\n",
    "#for bins in [[10, 10, 10, 10], [11, 11, 11, 11]]:\n",
    "for bins in [[10, 10, 10, 10], [50, 50, 50, 50], [100, 100, 100, 100]]:\n",
    "    for hist_mode in hist_modes:\n",
    "        print(f\"hist_mode: {hist_mode}, bins: {bins}\")\n",
    "        coords = {ax: np.linspace(r[0], r[1], n) for ax, r, n in zip(axes, ranges, bins)}\n",
    "        timer = timeit.Timer('bin_dataframe(df=sp._dataframe, bins=bins, axes=axes, ranges=ranges, hist_mode=hist_mode, pbar=False, n_cores=20)', globals=globals())\n",
    "        bench_converted[hist_mode][f\"{bins}\"] = timer.repeat(3, number=1)\n",
    "        timer = timeit.Timer('bin_dataframe(df=sp._dataframe, bins=coords, hist_mode=hist_mode, pbar=False, n_cores=20)', globals=globals())\n",
    "        bench_converted[hist_mode][f\"array_{bins}\"] = timer.repeat(3, number=1)"
   ]
  },
  {
   "cell_type": "code",
   "execution_count": null,
   "id": "be86ddec",
   "metadata": {},
   "outputs": [],
   "source": [
    "bench_converted"
   ]
  },
  {
   "cell_type": "code",
   "execution_count": null,
   "id": "c50e1d6b",
   "metadata": {},
   "outputs": [],
   "source": [
    "fig, axs = plt.subplots(2, 1, figsize=(8, 5), constrained_layout=True)\n",
    "#bins = [100, 1000, 10000]\n",
    "bins = [100, 1000, 10000, 100000, 1000000, 10000000, 100000000]\n",
    "res1D_numba = [np.mean(bench_converted[\"numba\"][f\"{[bin]}\"]) for bin in bins]\n",
    "res1D_numba_err = [np.std(bench_converted[\"numba\"][f\"{[bin]}\"]) for bin in bins]\n",
    "res1D_numpy = [np.mean(bench_converted[\"numpy\"][f\"{[bin]}\"]) for bin in bins]\n",
    "res1D_numpy_err = [np.std(bench_converted[\"numpy\"][f\"{[bin]}\"]) for bin in bins]\n",
    "res1D_numba_array = [np.mean(bench_converted[\"numba\"][f\"array_{[bin]}\"]) for bin in bins]\n",
    "res1D_numba_array_err = [np.std(bench_converted[\"numba\"][f\"array_{[bin]}\"]) for bin in bins]\n",
    "res1D_numpy_array = [np.mean(bench_converted[\"numpy\"][f\"array_{[bin]}\"]) for bin in bins]\n",
    "res1D_numpy_array_err = [np.std(bench_converted[\"numpy\"][f\"array_{[bin]}\"]) for bin in bins]\n",
    "axs[0].set_title(\"Calibrated data 1D binning\")\n",
    "axs[0].set_xscale(\"log\")\n",
    "axs[0].set_yscale(\"log\")\n",
    "axs[0].errorbar(bins, res1D_numba, res1D_numba_err, label=\"numba bins\")\n",
    "axs[0].errorbar(bins, res1D_numpy, res1D_numpy_err, label=\"numpy bins\")\n",
    "axs[0].errorbar(bins, res1D_numba_array, res1D_numba_array_err, label=\"numba arrays\")\n",
    "axs[0].errorbar(bins, res1D_numpy_array, res1D_numpy_array_err, label=\"numpy arrays\")\n",
    "axs[0].set_xlabel('# Bins')\n",
    "axs[0].set_ylabel('Time (s)')\n",
    "axs[0].legend()\n",
    "#bins = [[10, 10, 10, 10], [11, 11, 11, 11]]\n",
    "bins = [[10, 10, 10, 10], [50, 50, 50, 50], [100, 100, 100, 100]]\n",
    "bins_s = [f\"{bin}\" for bin in bins]\n",
    "res4D_numba = [np.mean(bench_converted[\"numba\"][f\"{bin}\"]) for bin in bins]\n",
    "res4D_numba_err = [np.std(bench_converted[\"numba\"][f\"{bin}\"]) for bin in bins]\n",
    "res4D_numpy = [np.mean(bench_converted[\"numpy\"][f\"{bin}\"]) for bin in bins]\n",
    "res4D_numpy_err = [np.std(bench_converted[\"numpy\"][f\"{bin}\"]) for bin in bins]\n",
    "res4D_numba_array = [np.mean(bench_converted[\"numba\"][f\"array_{bin}\"]) for bin in bins]\n",
    "res4D_numba_array_err = [np.std(bench_converted[\"numba\"][f\"array_{bin}\"]) for bin in bins]\n",
    "res4D_numpy_array = [np.mean(bench_converted[\"numpy\"][f\"array_{bin}\"]) for bin in bins]\n",
    "res4D_numpy_array_err = [np.std(bench_converted[\"numpy\"][f\"array_{bin}\"]) for bin in bins]\n",
    "axs[1].set_title(\"Calibrated data 4D binning\")\n",
    "axs[1].set_yscale(\"log\")\n",
    "axs[1].errorbar(bins_s, res4D_numba, res4D_numba_err, label=\"numba bins\")\n",
    "axs[1].errorbar(bins_s, res4D_numpy, res4D_numpy_err, label=\"numpy bins\")\n",
    "axs[1].errorbar(bins_s, res4D_numba_array, res4D_numba_array_err, label=\"numba arrays\")\n",
    "axs[1].errorbar(bins_s, res4D_numpy_array, res4D_numpy_array_err, label=\"numpy arrays\")\n",
    "axs[1].set_xlabel('Bin shape')\n",
    "axs[1].set_ylabel('Time (s)')\n",
    "axs[1].legend()"
   ]
  },
  {
   "cell_type": "code",
   "execution_count": null,
   "id": "07a0c13f",
   "metadata": {},
   "outputs": [],
   "source": []
  }
 ],
 "metadata": {
  "interpreter": {
   "hash": "728003ee06929e5fa5ff815d1b96bf487266025e4b7440930c6bf4536d02d243"
  },
  "kernelspec": {
   "display_name": "Python 3 (ipykernel)",
   "language": "python",
   "name": "python3"
  },
  "language_info": {
   "codemirror_mode": {
    "name": "ipython",
    "version": 3
   },
   "file_extension": ".py",
   "mimetype": "text/x-python",
   "name": "python",
   "nbconvert_exporter": "python",
   "pygments_lexer": "ipython3",
   "version": "3.8.12"
  }
 },
 "nbformat": 4,
 "nbformat_minor": 5
}
