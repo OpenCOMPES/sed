{
 "cells": [
  {
   "cell_type": "markdown",
   "id": "9768f3fd",
   "metadata": {},
   "source": [
    "# Tutorial for DLD sectors alignment using photon peak"
   ]
  },
  {
   "cell_type": "markdown",
   "id": "35b5edec",
   "metadata": {},
   "source": [
    "## Preparation"
   ]
  },
  {
   "cell_type": "markdown",
   "id": "965179f1",
   "metadata": {},
   "source": [
    "### Import necessary libraries"
   ]
  },
  {
   "cell_type": "code",
   "execution_count": null,
   "id": "56b7f7f7",
   "metadata": {},
   "outputs": [],
   "source": [
    "%load_ext autoreload\n",
    "%autoreload 2\n",
    "\n",
    "from pathlib import Path\n",
    "import os\n",
    "import numpy as np\n",
    "\n",
    "from sed import SedProcessor\n",
    "from sed.dataset import dataset\n",
    "\n",
    "import matplotlib.pyplot as plt\n",
    "%matplotlib widget\n",
    "\n",
    "from lmfit.models import GaussianModel"
   ]
  },
  {
   "cell_type": "markdown",
   "id": "56aec29e",
   "metadata": {},
   "source": [
    "### Get data paths\n",
    "\n",
    "If it is your beamtime, you can read the raw data and write to the processed directory. For the public data, you can not write to the processed directory.\n",
    "\n",
    "The paths are such that if you are on Maxwell, it uses those. Otherwise, data is downloaded in the current directory from Zenodo:\n",
    "https://zenodo.org/records/15011781"
   ]
  },
  {
   "cell_type": "code",
   "execution_count": null,
   "id": "db37f9f0",
   "metadata": {},
   "outputs": [],
   "source": [
    "beamtime_dir = \"/asap3/flash/gpfs/pg2/2021/data/11010004\" # on Maxwell\n",
    "if os.path.exists(beamtime_dir) and os.access(beamtime_dir, os.R_OK):\n",
    "    path = beamtime_dir + \"/raw/hdf/FL1USER3\"\n",
    "    buffer_path = beamtime_dir + \"/processed/tutorial/\"\n",
    "else:\n",
    "    # data_path can be defined and used to store the data in a specific location\n",
    "    dataset.get(\"Photon_peak\") # Put in Path to a storage of at least 10 GByte free space.\n",
    "    path = dataset.dir\n",
    "    buffer_path = path + \"/processed/\""
   ]
  },
  {
   "cell_type": "markdown",
   "id": "752744c5",
   "metadata": {},
   "source": [
    "### Config setup\n",
    "\n",
    "Here, we get the path to the config file and set up the relevant directories. This can also be done directly in the config file."
   ]
  },
  {
   "cell_type": "code",
   "execution_count": null,
   "id": "0a69ae3b",
   "metadata": {},
   "outputs": [],
   "source": [
    "# pick the default configuration file for hextof@FLASH\n",
    "config_file = Path('../src/sed/config/flash_example_config.yaml')\n",
    "assert config_file.exists()"
   ]
  },
  {
   "cell_type": "code",
   "execution_count": null,
   "id": "36ffaaa3",
   "metadata": {},
   "outputs": [],
   "source": [
    "# here we setup a dictionary that will be used to override the path configuration\n",
    "# a few setting changes are needed as well to work with older data\n",
    "config_override = {\n",
    "    \"core\": {\n",
    "        \"beamtime_id\": 11010004,\n",
    "        \"paths\": {\n",
    "            \"raw\": path,\n",
    "            \"processed\": buffer_path\n",
    "        },\n",
    "    },\n",
    "    \"dataframe\": {\n",
    "        \"ubid_offset\": 0,\n",
    "        \"channels\": {\n",
    "            \"timeStamp\": {\n",
    "                \"index_key\": \"/zraw/TIMINGINFO/TIME1.BUNCH_FIRST_INDEX.1/dGroup/index\",\n",
    "                \"dataset_key\": \"/zraw/TIMINGINFO/TIME1.BUNCH_FIRST_INDEX.1/dGroup/time\",\n",
    "            },\n",
    "            \"pulseId\": {\n",
    "                \"index_key\": \"/zraw/FLASH.FEL/HEXTOF.DAQ/DLD1/dGroup/index\",\n",
    "                \"dataset_key\": \"/zraw/FLASH.FEL/HEXTOF.DAQ/DLD1/dGroup/value\",\n",
    "            },\n",
    "            \"dldPosX\": {\n",
    "                \"index_key\": \"/zraw/FLASH.FEL/HEXTOF.DAQ/DLD1/dGroup/index\",\n",
    "                \"dataset_key\": \"/zraw/FLASH.FEL/HEXTOF.DAQ/DLD1/dGroup/value\",\n",
    "            },\n",
    "            \"dldPosY\": {\n",
    "                \"index_key\": \"/zraw/FLASH.FEL/HEXTOF.DAQ/DLD1/dGroup/index\",\n",
    "                \"dataset_key\": \"/zraw/FLASH.FEL/HEXTOF.DAQ/DLD1/dGroup/value\",\n",
    "            },\n",
    "            \"dldTimeSteps\": {\n",
    "                \"index_key\": \"/zraw/FLASH.FEL/HEXTOF.DAQ/DLD1/dGroup/index\",\n",
    "                \"dataset_key\": \"/zraw/FLASH.FEL/HEXTOF.DAQ/DLD1/dGroup/value\",\n",
    "            },\n",
    "            \"dldAux\": {\n",
    "                \"index_key\": \"/zraw/FLASH.FEL/HEXTOF.DAQ/DLD1/dGroup/index\",\n",
    "                \"dataset_key\": \"/zraw/FLASH.FEL/HEXTOF.DAQ/DLD1/dGroup/value\",\n",
    "            },\n",
    "            \"bam\": {\n",
    "                \"index_key\": \"/zraw/FLASH.SDIAG/BAM.DAQ/4DBC3.HIGH_CHARGE_ARRIVAL_TIME/dGroup/index\",\n",
    "                \"dataset_key\": \"/zraw/FLASH.SDIAG/BAM.DAQ/4DBC3.HIGH_CHARGE_ARRIVAL_TIME/dGroup/value\",\n",
    "            },\n",
    "            \"delayStage\": {\n",
    "                \"index_key\": \"/zraw/FLASH.SYNC/LASER.LOCK.EXP/FLASH1.MOD1.PG.OSC/FMC0.MD22.1.ENCODER_POSITION.RD/dGroup/index\",\n",
    "                \"dataset_key\": \"/zraw/FLASH.SYNC/LASER.LOCK.EXP/FLASH1.MOD1.PG.OSC/FMC0.MD22.1.ENCODER_POSITION.RD/dGroup/value\",\n",
    "            },\n",
    "            \"opticalDiode\": {\n",
    "                \"format\": \"per_train\",\n",
    "                \"index_key\": \"/uncategorised/FLASH.LASER/FLACPUPGLASER1.PULSEENERGY/PG2_incoupl/PULSEENERGY.MEAN/index\",\n",
    "                \"dataset_key\": \"/uncategorised/FLASH.LASER/FLACPUPGLASER1.PULSEENERGY/PG2_incoupl/PULSEENERGY.MEAN/value\",\n",
    "            },\n",
    "        },\n",
    "    },\n",
    "}"
   ]
  },
  {
   "cell_type": "markdown",
   "id": "9a02437f",
   "metadata": {},
   "source": [
    "### Read data"
   ]
  },
  {
   "cell_type": "code",
   "execution_count": null,
   "id": "528ebbaa",
   "metadata": {},
   "outputs": [],
   "source": [
    "run_number = 40887\n",
    "sp_ph_peak = SedProcessor(runs=[run_number], config=config_override, system_config=config_file, verbose=True)\n",
    "sp_ph_peak.add_jitter()"
   ]
  },
  {
   "cell_type": "markdown",
   "id": "c0642add",
   "metadata": {},
   "source": [
    "Check which channels are included in the dataframe"
   ]
  },
  {
   "cell_type": "code",
   "execution_count": null,
   "id": "01df316f",
   "metadata": {},
   "outputs": [],
   "source": [
    "sp_ph_peak.dataframe[[\"dldTimeSteps\", \"dldSectorID\"]].head()"
   ]
  },
  {
   "cell_type": "markdown",
   "id": "a2cb8c7d",
   "metadata": {},
   "source": [
    "## Data w/o correction of quadrants in time"
   ]
  },
  {
   "cell_type": "markdown",
   "id": "69b04657",
   "metadata": {},
   "source": [
    "First, we take a look at the photon peak and apply separation by single quadrants before any corrections. We plot the data in detector time (dldTimeSteps) as well as in detector position (dldPosX and dldPosY) coordinates, with additional separation by single sectors."
   ]
  },
  {
   "cell_type": "code",
   "execution_count": null,
   "id": "a911e251",
   "metadata": {},
   "outputs": [],
   "source": [
    "axes = ['dldSectorID', 'dldTimeSteps','dldPosX','dldPosY']\n",
    "ranges = [[0,8], [2360,2460], [435,885], [445,895]]\n",
    "bins = [8,700,225,225]\n",
    "res_ph_peak = sp_ph_peak.compute(bins=bins, axes=axes, ranges=ranges)"
   ]
  },
  {
   "cell_type": "code",
   "execution_count": null,
   "id": "e326e279",
   "metadata": {},
   "outputs": [],
   "source": [
    "res_ph_peak['dldPosX'].attrs['unit'] = 'pixel'\n",
    "res_ph_peak['dldPosY'].attrs['unit'] = 'pixel'\n",
    "fig,ax = plt.subplots(1,2,figsize=(6,2.25), layout='tight')\n",
    "res_ph_peak.sum(('dldSectorID','dldPosX','dldPosY')).plot(ax=ax[0])\n",
    "res_ph_peak.sel(dldTimeSteps=slice(2380,2400)).mean(('dldSectorID','dldTimeSteps')).plot(ax=ax[1], robust=True)"
   ]
  },
  {
   "cell_type": "markdown",
   "id": "b6ced7c3",
   "metadata": {},
   "source": [
    "Just photon peak itself without surrounding background"
   ]
  },
  {
   "cell_type": "code",
   "execution_count": null,
   "id": "5b868279",
   "metadata": {},
   "outputs": [],
   "source": [
    "ph_peak = res_ph_peak.sel(dldTimeSteps=slice(2380,2400)).sum(('dldPosX','dldPosY'))\n",
    "plt.figure(figsize=(6,4))\n",
    "ph_peak.sum('dldSectorID').plot()"
   ]
  },
  {
   "cell_type": "markdown",
   "id": "9c0bce66",
   "metadata": {},
   "source": [
    "Let's check the signal (photon peak) from every single sector"
   ]
  },
  {
   "cell_type": "code",
   "execution_count": null,
   "id": "2fc9f73c",
   "metadata": {},
   "outputs": [],
   "source": [
    "plt.figure(figsize=(6,4))\n",
    "ph_peak.plot()"
   ]
  },
  {
   "cell_type": "code",
   "execution_count": null,
   "id": "6cabf1a2",
   "metadata": {},
   "outputs": [],
   "source": [
    "plt.figure(figsize=(6,4))\n",
    "for i, item in enumerate(ph_peak):\n",
    "    item.plot(label=f'S{i}')\n",
    "    plt.legend()"
   ]
  },
  {
   "cell_type": "markdown",
   "id": "9a43f35b",
   "metadata": {},
   "source": [
    "### Position of the photon peak"
   ]
  },
  {
   "cell_type": "code",
   "execution_count": null,
   "id": "c5b5b844",
   "metadata": {},
   "outputs": [],
   "source": [
    "Gauss_mod = GaussianModel()\n",
    "\n",
    "x=ph_peak['dldTimeSteps']\n",
    "y=ph_peak.sum('dldSectorID')\n",
    "\n",
    "pars = Gauss_mod.make_params(amplitude=200, center=2390, sigma=1)\n",
    "# pars = Gauss_mod.guess(y, x=x)\n",
    "out = Gauss_mod.fit(y, pars, x=x)\n",
    "\n",
    "print(out.fit_report())\n",
    "plt.figure(figsize=(6,4))\n",
    "plt.plot(x,y, 'rx')\n",
    "plt.plot(x,out.best_fit, \"b\", label=\"FWHM = {:.3f}\".format(out.values['fwhm']))\n",
    "plt.title(f'Run {run_number}, full photon peak')\n",
    "plt.legend(loc=\"best\")\n",
    "plt.xlabel(\"dldTimeSteps [step]\")"
   ]
  },
  {
   "cell_type": "markdown",
   "id": "70cca670",
   "metadata": {},
   "source": [
    "Width of the photon peak from every quadrant and they offset in ps in respect to 0 quadrant"
   ]
  },
  {
   "cell_type": "code",
   "execution_count": null,
   "id": "104637eb",
   "metadata": {},
   "outputs": [],
   "source": [
    "plt.figure(figsize=(6,4))\n",
    "sector_delays = np.zeros(8)\n",
    "for i, item in enumerate(ph_peak):\n",
    "    x=ph_peak['dldTimeSteps']\n",
    "    y=item\n",
    "    pars = Gauss_mod.make_params(amplitude=200, center=2390, sigma=1)\n",
    "    out = Gauss_mod.fit(y, pars, x=x)\n",
    "    Center = 2388.984276411258\n",
    "    Diff = \"{:.3f}\".format(Center - out.values['center'])\n",
    "    sector_delays[i] = (out.values['center'])\n",
    "    FWHM = \"{:.3f}\".format(out.values['fwhm'])\n",
    "    item.plot(label=f'S{i}={Diff}, FWHM = {FWHM}')\n",
    "    plt.title(f'Run {run_number}, individual sectors, not aligned')\n",
    "    plt.legend()"
   ]
  },
  {
   "cell_type": "code",
   "execution_count": null,
   "id": "a41757a4",
   "metadata": {},
   "outputs": [],
   "source": [
    "sector_delays = sector_delays - np.mean(sector_delays)\n",
    "sector_delays"
   ]
  },
  {
   "cell_type": "markdown",
   "id": "ba4edbe6",
   "metadata": {},
   "source": [
    "### sector alignment\n",
    "as usual, first, we jitter, but here we also align in time the 8 sectors of the dld. This is done by finding the time of the maximum of the signal in each sector, and then shifting the signal in each sector by the difference between the maximum time and the time of the maximum in each sector."
   ]
  },
  {
   "cell_type": "code",
   "execution_count": null,
   "id": "6e4d0b02",
   "metadata": {},
   "outputs": [],
   "source": [
    "sp_ph_peak.align_dld_sectors(sector_delays=sector_delays)"
   ]
  },
  {
   "cell_type": "code",
   "execution_count": null,
   "id": "e1e7ed7a",
   "metadata": {},
   "outputs": [],
   "source": [
    "sp_ph_peak.dataframe[[\"dldTimeSteps\", \"dldSectorID\"]].head()"
   ]
  },
  {
   "cell_type": "markdown",
   "id": "a1a07700",
   "metadata": {},
   "source": [
    "### Width of the photon peak after sector alignment\n",
    "Now we can repeat the fit procedure for combined and sector-separated photon peaks to see the effect of sector alignment"
   ]
  },
  {
   "cell_type": "code",
   "execution_count": null,
   "id": "a0351c0f",
   "metadata": {},
   "outputs": [],
   "source": [
    "axes = ['dldSectorID', 'dldTimeSteps','dldPosX','dldPosY']\n",
    "ranges = [[0,8], [2360,2460], [435,885], [445,895]]\n",
    "bins = [8,700,225,225]\n",
    "res_ph_peak_align = sp_ph_peak.compute(bins=bins, axes=axes, ranges=ranges)\n",
    "\n",
    "ph_peak_align = res_ph_peak_align.sel(dldTimeSteps=slice(2380,2400)).sum(('dldPosX','dldPosY'))\n",
    "\n",
    "fig,ax = plt.subplots(1,2,figsize=(6,3.25), layout='tight')\n",
    "ph_peak_align.sum('dldSectorID').plot(ax=ax[0])\n",
    "for i, item in enumerate(ph_peak_align):\n",
    "    item.plot(ax=ax[1], label=f'S{i}')\n",
    "    plt.legend()"
   ]
  },
  {
   "cell_type": "code",
   "execution_count": null,
   "id": "5b0b9f7e",
   "metadata": {},
   "outputs": [],
   "source": [
    "Gauss_mod = GaussianModel()\n",
    "\n",
    "x=ph_peak_align['dldTimeSteps']\n",
    "y=ph_peak_align.sum('dldSectorID')\n",
    "\n",
    "pars = Gauss_mod.make_params(amplitude=200, center=2390, sigma=1)\n",
    "out = Gauss_mod.fit(y, pars, x=x)\n",
    "\n",
    "print(out.fit_report())\n",
    "plt.figure(figsize=(6,4))\n",
    "plt.plot(x,y, 'rx')\n",
    "plt.plot(x,out.best_fit, \"b\", label=\"FWHM = {:.3f}\".format(out.values['fwhm']))\n",
    "plt.title(f'Run {run_number}, full photon peak, sectors aligned')\n",
    "plt.legend(loc=\"best\")\n",
    "plt.xlabel(\"dldTimeSteps [step]\")\n",
    "plt.show()"
   ]
  },
  {
   "cell_type": "markdown",
   "id": "4a3909b0",
   "metadata": {},
   "source": [
    "As we can see from the result of the last fit, after sector alignment, we have improved the photon peak width by 0.058 steps."
   ]
  },
  {
   "cell_type": "markdown",
   "id": "eca0ca1f",
   "metadata": {},
   "source": [
    "The same check can be done for every single sector to see/check that all sectors were properly corrected in time by their difference from the 0 sector."
   ]
  },
  {
   "cell_type": "code",
   "execution_count": null,
   "id": "2b18171e",
   "metadata": {},
   "outputs": [],
   "source": [
    "plt.figure(figsize=(6,4))\n",
    "for i, item in enumerate(ph_peak_align):\n",
    "    x=ph_peak_align['dldTimeSteps']\n",
    "    y=item\n",
    "    pars = Gauss_mod.make_params(amplitude=800.0, center=2390, sigma=1)\n",
    "    out = Gauss_mod.fit(y, pars, x=x)\n",
    "    Center = 2388.984276411258\n",
    "    Diff = \"{:.3f}\".format(Center - out.values['center'])\n",
    "    FWHM = \"{:.3f}\".format(out.values['fwhm'])\n",
    "    item.plot(label=f'S{i}={Diff}, FWHM = {FWHM} step')\n",
    "    plt.title(f'Run {run_number}, individual sectors, aligned')\n",
    "    plt.legend()\n",
    "plt.show()"
   ]
  },
  {
   "cell_type": "markdown",
   "id": "5645932e-7d6d-48ad-9192-7ab0c6e78a3a",
   "metadata": {},
   "source": [
    "Now we can make an ns conversion and do a fitting procedure again to see, e.g. DLD time resolution."
   ]
  },
  {
   "cell_type": "code",
   "execution_count": null,
   "id": "df6495a3",
   "metadata": {},
   "outputs": [],
   "source": [
    "sp_ph_peak.append_tof_ns_axis()"
   ]
  },
  {
   "cell_type": "code",
   "execution_count": null,
   "id": "c9aaa75a-d8e2-47eb-82eb-f382d1250aa7",
   "metadata": {},
   "outputs": [],
   "source": [
    "sp_ph_peak.dataframe[[\"dldTimeSteps\", \"dldTime\", \"dldSectorID\"]].head()"
   ]
  },
  {
   "cell_type": "code",
   "execution_count": null,
   "id": "f2b3b358-f873-4e2f-9058-579b97e2cb50",
   "metadata": {},
   "outputs": [],
   "source": [
    "axes = ['dldSectorID', 'dldTime']\n",
    "ranges = [[0,8], [390,397]]\n",
    "bins = [8,350]\n",
    "res_ph_peak_ns = sp_ph_peak.compute(bins=bins, axes=axes, ranges=ranges)\n",
    "\n",
    "plt.figure()\n",
    "res_ph_peak_ns.sum(('dldSectorID')).plot()\n",
    "plt.show()"
   ]
  },
  {
   "cell_type": "code",
   "execution_count": null,
   "id": "f4e39abe-f7e4-4c6f-8d6a-c9faa74a159f",
   "metadata": {},
   "outputs": [],
   "source": [
    "Gauss_mod = GaussianModel()\n",
    "\n",
    "x=res_ph_peak_ns['dldTime']\n",
    "y=res_ph_peak_ns.sum('dldSectorID')\n",
    "\n",
    "pars = Gauss_mod.make_params(amplitude=340.0, center=393.2, sigma=0.19)\n",
    "# pars = Gauss_mod.guess(y, x=x)\n",
    "out = Gauss_mod.fit(y, pars, x=x)\n",
    "\n",
    "print(out.fit_report())\n",
    "plt.figure()\n",
    "plt.plot(x,y, 'rx')\n",
    "plt.plot(x,out.best_fit, \"b\", label=\"FWHM = {:.3f} ns\".format(out.values['fwhm']))\n",
    "#plt.title(f'Run {runs}, full photon peak')\n",
    "plt.legend(loc=\"best\")\n",
    "plt.xlabel(\"dldTime [ns]\")\n",
    "plt.title(f'Run {run_number}, all sectors aligned')\n",
    "plt.show()"
   ]
  },
  {
   "cell_type": "code",
   "execution_count": null,
   "id": "af9eb679-f418-460f-8fce-e9943ce4d033",
   "metadata": {},
   "outputs": [],
   "source": []
  }
 ],
 "metadata": {
  "kernelspec": {
   "display_name": ".venv",
   "language": "python",
   "name": "python3"
  },
  "language_info": {
   "codemirror_mode": {
    "name": "ipython",
    "version": 3
   },
   "file_extension": ".py",
   "mimetype": "text/x-python",
   "name": "python",
   "nbconvert_exporter": "python",
   "pygments_lexer": "ipython3",
   "version": "3.10.16"
  }
 },
 "nbformat": 4,
 "nbformat_minor": 5
}
