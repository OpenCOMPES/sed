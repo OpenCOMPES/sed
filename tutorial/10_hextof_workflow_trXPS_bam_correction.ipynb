{
 "cells": [
  {
   "cell_type": "markdown",
   "id": "9192f0aa",
   "metadata": {},
   "source": [
    "# Tutorial for trXPS for the HEXTOF instrument at FLASH: t0, cross-correlation and BAM correction"
   ]
  },
  {
   "cell_type": "markdown",
   "id": "1e583d01",
   "metadata": {},
   "source": [
    "## Preparation"
   ]
  },
  {
   "cell_type": "markdown",
   "id": "303d7dfb",
   "metadata": {},
   "source": [
    "### Import necessary libraries"
   ]
  },
  {
   "cell_type": "code",
   "execution_count": null,
   "id": "e73f4a19",
   "metadata": {},
   "outputs": [],
   "source": [
    "%load_ext autoreload\n",
    "%autoreload 2\n",
    "\n",
    "from pathlib import Path\n",
    "import os\n",
    "\n",
    "from sed import SedProcessor\n",
    "from sed.dataset import dataset\n",
    "import numpy as np\n",
    "\n",
    "%matplotlib widget\n",
    "import matplotlib.pyplot as plt\n",
    "\n",
    "# For peak fitting\n",
    "from lmfit.models import GaussianModel"
   ]
  },
  {
   "cell_type": "markdown",
   "id": "07076e2f",
   "metadata": {},
   "source": [
    "### Get data paths\n",
    "\n",
    "If it is your beamtime, you can read the raw data and write to the processed directory. For the public data, you can not write to the processed directory.\n",
    "\n",
    "The paths are such that if you are on Maxwell, it uses those. Otherwise, data is downloaded in the current directory from Zenodo:\n",
    "https://zenodo.org/records/12609441"
   ]
  },
  {
   "cell_type": "code",
   "execution_count": null,
   "id": "f9713ebb",
   "metadata": {},
   "outputs": [],
   "source": [
    "beamtime_dir = \"/asap3/flash/gpfs/pg2/2023/data/11019101\" # on Maxwell\n",
    "if os.path.exists(beamtime_dir) and os.access(beamtime_dir, os.R_OK):\n",
    "    path = beamtime_dir + \"/raw/hdf/offline/fl1user3\"\n",
    "    buffer_path = beamtime_dir + \"/processed/tutorial/\"\n",
    "else:\n",
    "    # data_path can be defined and used to store the data in a specific location\n",
    "    dataset.get(\"W110\") # Put in Path to a storage of at least 10 Byte free space.\n",
    "    path = dataset.dir\n",
    "    buffer_path = path + \"/processed/\""
   ]
  },
  {
   "cell_type": "markdown",
   "id": "5cf71d69",
   "metadata": {},
   "source": [
    "### Config setup\n",
    "Here, we get the path to the config file and set up the relevant directories. This can also be done directly in the config file."
   ]
  },
  {
   "cell_type": "code",
   "execution_count": null,
   "id": "195d7ff5",
   "metadata": {},
   "outputs": [],
   "source": [
    "# pick the default configuration file for hextof@FLASH\n",
    "config_file = Path('../src/sed/config/flash_example_config.yaml')\n",
    "assert config_file.exists()"
   ]
  },
  {
   "cell_type": "code",
   "execution_count": null,
   "id": "18c3db1b",
   "metadata": {},
   "outputs": [],
   "source": [
    "# here we setup a dictionary that will be used to override the path configuration\n",
    "config_override = {\n",
    "    \"core\": {\n",
    "        \"beamtime_id\": 11019101,\n",
    "        \"paths\": {\n",
    "            \"raw\": path,\n",
    "            \"processed\": buffer_path\n",
    "        },\n",
    "    },\n",
    "}"
   ]
  },
  {
   "cell_type": "code",
   "execution_count": null,
   "id": "3145b03c",
   "metadata": {},
   "outputs": [],
   "source": [
    "energy_cal = {\n",
    "    \"energy\": {\n",
    "        \"calibration\": {\n",
    "            \"E0\": -132.47100427179566,\n",
    "            \"creation_date\": '2024-11-30T20:47:03.305244',\n",
    "            \"d\": 0.8096677238144319,\n",
    "            \"energy_scale\": \"kinetic\",\n",
    "            \"t0\": 4.0148196706891397e-07,\n",
    "        },\n",
    "        \"offsets\":{\n",
    "            \"constant\": 1,\n",
    "            \"creation_date\": '2024-11-30T21:17:07.762199',\n",
    "            \"columns\": {\n",
    "                \"monochromatorPhotonEnergy\": {\n",
    "                    \"preserve_mean\": True,\n",
    "                    \"weight\": -1,\n",
    "                },\n",
    "                \"tofVoltage\": {\n",
    "                    \"preserve_mean\": True,\n",
    "                    \"weight\": -1,\n",
    "                },\n",
    "            },\n",
    "        },\n",
    "    },\n",
    "}"
   ]
  },
  {
   "cell_type": "markdown",
   "id": "29a56a9e",
   "metadata": {},
   "source": [
    "### We use the stored energy calibration parameters and load trXPS data set to define:\n",
    "* t0 position with respect to delay stage values;\n",
    "* correct accordingly delay stage offset\n",
    "* fit cross-correlation \n",
    "* apply BAM correction and see its effect on cross-correlation"
   ]
  },
  {
   "cell_type": "code",
   "execution_count": null,
   "id": "678d23c4",
   "metadata": {},
   "outputs": [],
   "source": [
    "run_number = 44498\n",
    "sp_44498 = SedProcessor(runs=[run_number], config=config_override, folder_config=energy_cal, system_config=config_file, verbose=True)\n",
    "\n",
    "sp_44498.add_jitter()\n",
    "sp_44498.align_dld_sectors()\n",
    "sp_44498.append_energy_axis()\n",
    "sp_44498.add_energy_offset()"
   ]
  },
  {
   "cell_type": "markdown",
   "id": "ba9bb7f7",
   "metadata": {},
   "source": [
    "Check which channels are included in the dataframe"
   ]
  },
  {
   "cell_type": "code",
   "execution_count": null,
   "id": "c17be152",
   "metadata": {},
   "outputs": [],
   "source": [
    "sp_44498.dataframe.head()"
   ]
  },
  {
   "cell_type": "markdown",
   "id": "db246a19",
   "metadata": {},
   "source": [
    "## Data w/o BAM correction"
   ]
  },
  {
   "cell_type": "markdown",
   "id": "1349568e",
   "metadata": {},
   "source": [
    "First, we take a look at our sideband measurement before any corrections.\n",
    "The sidebands on the W4f core levels can be used as a measure of the pump and probe cross-correlation,\n",
    "and hence our temporal resolution.\n",
    "We plot the data delay stage position vs Energy data, normalized by acquisition time."
   ]
  },
  {
   "cell_type": "code",
   "execution_count": null,
   "id": "3df8530e",
   "metadata": {},
   "outputs": [],
   "source": [
    "axes = ['energy', 'delayStage']\n",
    "ranges = [[-37.5,-27.5], [1446.75,1449.15]]\n",
    "bins = [200,40]\n",
    "res = sp_44498.compute(bins=bins, axes=axes, ranges=ranges, normalize_to_acquisition_time=\"delayStage\")"
   ]
  },
  {
   "cell_type": "code",
   "execution_count": null,
   "id": "59764b73",
   "metadata": {},
   "outputs": [],
   "source": [
    "fig,ax = plt.subplots(1,2,figsize=(8,3), layout='constrained')\n",
    "res.plot(robust=True, ax=ax[0], cmap='terrain')\n",
    "fig.suptitle(f\"Run {run_number}: W 4f, side bands\")\n",
    "ax[0].set_title('raw')\n",
    "bg = res.sel(delayStage=slice(1448.7,1449.1)).mean('delayStage')\n",
    "(res.sel(delayStage=slice(1446.8,1449.3))-bg).plot(robust=True, ax=ax[1])\n",
    "ax[1].set_title('difference')"
   ]
  },
  {
   "cell_type": "markdown",
   "id": "43191608",
   "metadata": {},
   "source": [
    "Now we make fit to determine precise t$_0$ position and cross-correlation using lmfit fit models"
   ]
  },
  {
   "cell_type": "code",
   "execution_count": null,
   "id": "4de472b3",
   "metadata": {},
   "outputs": [],
   "source": [
    "Gauss_mod = GaussianModel()\n",
    "\n",
    "#first order sideband:\n",
    "x1=res['delayStage']\n",
    "y1=res.sel(energy=slice(-30.5,-29.5)).sum('energy')\n",
    "y1=y1-np.mean(y1.sel(delayStage=slice(1448.7,1449.1)))\n",
    "\n",
    "pars1 = Gauss_mod.make_params(amplitude=0.1, center=1447.8, sigma=0.02)\n",
    "out1 = Gauss_mod.fit(y1, pars1, x=x1)\n",
    "\n",
    "#second order sideband\n",
    "x2=res['delayStage']\n",
    "y2=res.sel(energy=slice(-29.5,-28.5)).sum('energy')\n",
    "y2=y2-np.mean(y2.sel(delayStage=slice(1448.7,1449.1)))\n",
    "\n",
    "pars2 = Gauss_mod.make_params(amplitude=0.1, center=1447.8, sigma=0.02)\n",
    "out2 = Gauss_mod.fit(y2, pars2, x=x2)\n",
    "\n",
    "plt.figure()\n",
    "plt.plot(x1,y1,'rx', label='$1^{st}$ order sideband')\n",
    "plt.plot(x1,out1.best_fit,'r', label=\"FWHM = {:.3f} ps\".format(out1.values['fwhm']))\n",
    "plt.legend(loc=\"best\")\n",
    "plt.title('run44498, W4f, sidebands comparison')\n",
    "plt.plot(x2,y2,'bx', label='$2^{nd}$ order sideband')\n",
    "plt.plot(x2,out2.best_fit,'b', label=\"FWHM = {:.3f} ps\".format(out2.values['fwhm']))\n",
    "plt.legend(loc=\"best\")\n",
    "plt.xlabel(\"delayStage [ps]\")\n",
    "plt.ylabel(\"Intensity [cts/s]\")\n",
    "plt.show()"
   ]
  },
  {
   "cell_type": "markdown",
   "id": "f6a20bf2",
   "metadata": {},
   "source": [
    "As we see the sidebands are quite broad and one of the possible reasons for this could be long or short-term drifts (jitter) of the FEL arrival time with respect to e.g. optical laser or differences in the intra-bunch arrival time. To check and correct for this we can look at beam arrival monitor (BAM). The BAM gives a pulse-resolved measure of the FEL arrival time with respect to a master clock."
   ]
  },
  {
   "cell_type": "markdown",
   "id": "2742bb17",
   "metadata": {},
   "source": [
    "## Check BAM versus pulse and train IDs"
   ]
  },
  {
   "cell_type": "code",
   "execution_count": null,
   "id": "8feb38c7",
   "metadata": {},
   "outputs": [],
   "source": [
    "axes = ['trainId', 'pulseId', 'bam']\n",
    "ranges = [[1628022640,1628046700], [0,500], [-6400,100]]\n",
    "bins = [250, 100, 1000]\n",
    "res_bam = sp_44498.compute(bins=bins, axes=axes, ranges=ranges)"
   ]
  },
  {
   "cell_type": "markdown",
   "id": "de89978e",
   "metadata": {},
   "source": [
    "As we can see, jitter between FEL and pump laser is quite significant withing a pulse train as well as over the whole measurement period."
   ]
  },
  {
   "cell_type": "code",
   "execution_count": null,
   "id": "8203d22d",
   "metadata": {},
   "outputs": [],
   "source": [
    "\n",
    "fig,ax = plt.subplots(1,2,figsize=(8,3), layout='constrained')\n",
    "res_bam.sel(bam=slice(-6400,-5100)).sum('trainId').plot(ax=ax[0],robust=True, cmap='terrain')\n",
    "res_bam.sel(bam=slice(-6400,-5100)).sum('pulseId').plot(ax=ax[1],robust=True, cmap='terrain')\n",
    "plt.show()"
   ]
  },
  {
   "cell_type": "markdown",
   "id": "babbc574",
   "metadata": {},
   "source": [
    "## Apply BAM correction"
   ]
  },
  {
   "cell_type": "markdown",
   "id": "b0c70ad0",
   "metadata": {},
   "source": [
    "To correct the SASE jitter, using information from the bam column and to calibrate the pump-probe delay axis, we need to shift the delay stage values to centre the pump-probe-time overlap time zero."
   ]
  },
  {
   "cell_type": "code",
   "execution_count": null,
   "id": "90b702e4",
   "metadata": {},
   "outputs": [],
   "source": [
    "sp_44498.add_delay_offset(\n",
    "    constant=-1448, # this is time zero position determined from side band fit\n",
    "    flip_delay_axis=True, # invert the direction of the delay axis\n",
    "    columns=['bam'], # use the bam to offset the values\n",
    "    weights=[-0.001], # bam is in fs, delay in ps\n",
    "    preserve_mean=True # preserve the mean of the delay axis to keep t0 position\n",
    ")"
   ]
  },
  {
   "cell_type": "markdown",
   "id": "9f83b41e",
   "metadata": {},
   "source": [
    "### bin in the corrected delay axis"
   ]
  },
  {
   "cell_type": "code",
   "execution_count": null,
   "id": "89a72e3a",
   "metadata": {},
   "outputs": [],
   "source": [
    "axes = ['energy', 'delayStage']\n",
    "ranges = [[-37.5,-27.5], [-1.5,1.5]]\n",
    "bins = [200,60]\n",
    "res_corr = sp_44498.compute(bins=bins, axes=axes, ranges=ranges, normalize_to_acquisition_time=\"delayStage\")"
   ]
  },
  {
   "cell_type": "code",
   "execution_count": null,
   "id": "8443ddcb",
   "metadata": {},
   "outputs": [],
   "source": [
    "fig,ax = plt.subplots(1,2,figsize=(8,3), layout='constrained')\n",
    "fig.suptitle(f\"Run {run_number}: W 4f, side bands\")\n",
    "res_corr.plot(robust=True, ax=ax[0], cmap='terrain')\n",
    "ax[0].set_title('raw')\n",
    "bg = res_corr.sel(delayStage=slice(-1.3,-1.0)).mean('delayStage')\n",
    "(res_corr-bg).plot(robust=True, ax=ax[1])\n",
    "ax[1].set_title('difference')"
   ]
  },
  {
   "cell_type": "markdown",
   "id": "202404c8",
   "metadata": {},
   "source": [
    "We clearly see an effect of BAM corrections - side bands are visible much nicer and width became smaller."
   ]
  },
  {
   "cell_type": "code",
   "execution_count": null,
   "id": "3141cc76",
   "metadata": {},
   "outputs": [],
   "source": [
    "sp_44498.save_delay_offsets()"
   ]
  },
  {
   "cell_type": "markdown",
   "id": "67deb9f9",
   "metadata": {},
   "source": [
    "Now we can repeat fit procedure to determine true cross-correlation value."
   ]
  },
  {
   "cell_type": "code",
   "execution_count": null,
   "id": "3257d2bb",
   "metadata": {},
   "outputs": [],
   "source": [
    "Gauss_mod = GaussianModel()\n",
    "\n",
    "#first order sideband:\n",
    "x5=res_corr['delayStage'].sel(delayStage=slice(-1.6,1.5))\n",
    "y5=res_corr.sel(energy=slice(-30.4,-29.5),delayStage=slice(-1.6,1.5)).sum('energy')\n",
    "y5=y5-np.mean(y5.sel(delayStage=slice(-1.4,-1.0)))\n",
    "\n",
    "pars5 = Gauss_mod.make_params(amplitude=0.1, center=0.0, sigma=0.02)\n",
    "out5 = Gauss_mod.fit(y5, pars5, x=x5)\n",
    "\n",
    "print(out5.fit_report())\n",
    "\n",
    "#second order sideband\n",
    "x6=res_corr['delayStage'].sel(delayStage=slice(-1.6,1.5))\n",
    "y6=res_corr.sel(energy=slice(-29.5,-27.5),delayStage=slice(-1.6,1.5)).sum('energy')\n",
    "y6=y6-np.mean(y6.sel(delayStage=slice(-1.4,-1.0)))\n",
    "\n",
    "pars6 = Gauss_mod.make_params(amplitude=0.1, center=0.0, sigma=0.02)\n",
    "out6 = Gauss_mod.fit(y6, pars6, x=x6)\n",
    "\n",
    "print(out6.fit_report())\n",
    "\n",
    "#comparison plot\n",
    "plt.figure()\n",
    "plt.plot(x5,y5,'rx', label='$1^{st}$ order sideband')\n",
    "plt.plot(x5,out5.best_fit,'r', label=\"FWHM = {:.3f} ps\".format(out5.values['fwhm']))\n",
    "plt.legend(loc=\"best\")\n",
    "plt.title('run44498, W4f, sidebands comparison')\n",
    "plt.plot(x6,y6,'bx', label='$2^{nd}$ order sideband')\n",
    "plt.plot(x6,out6.best_fit,'b', label=\"FWHM = {:.3f} ps\".format(out6.values['fwhm']))\n",
    "plt.legend(loc=\"best\")\n",
    "plt.xlabel(\"pump probe delay [ps]\")\n",
    "plt.ylabel(\"Intensity [cts/s]\")\n",
    "plt.show()"
   ]
  },
  {
   "cell_type": "markdown",
   "id": "8da4db1f",
   "metadata": {},
   "source": [
    "## Comparison of the BAM correction effect"
   ]
  },
  {
   "cell_type": "code",
   "execution_count": null,
   "id": "5c0ce10c",
   "metadata": {},
   "outputs": [],
   "source": [
    "fig,ax=plt.subplots(2,2,figsize=(9,7),layout=\"constrained\")\n",
    "\n",
    "plt.axes(ax[0,0])\n",
    "res.plot(cmap='terrain', robust=True)\n",
    "plt.title(\"W4f, no bam correction\")\n",
    "\n",
    "plt.axes(ax[0,1])\n",
    "plt.plot(x1,y1,'rx',label='integrated intensity 1. order')\n",
    "plt.plot(x1,out1.best_fit,'r',label='1. order fit, FWHM = {:.3f} ps'.format(out1.values['fwhm']))\n",
    "plt.plot(x2,y2,'bx',label='integrated intensity 2. order')\n",
    "plt.plot(x2,out2.best_fit,'b',label='2. order fit, FWHM = {:.3f} ps'.format(out2.values['fwhm']))\n",
    "plt.legend(loc=1) \n",
    "plt.title(\"Sidebands without bam correction\")\n",
    "\n",
    "plt.axes(ax[1,0])\n",
    "res_corr.sel(delayStage=slice(-1.6,1.5)).plot(robust=True,cmap='terrain')\n",
    "plt.title(\"W4f, with bam correction\")\n",
    "\n",
    "plt.axes(ax[1,1])\n",
    "plt.plot(x5,y5,'rx',label='integrated intensity 1. order')\n",
    "plt.plot(x5,out5.best_fit,'r',label='1. order fit, FWHM = {:.3f} ps'.format(out5.values['fwhm']))\n",
    "plt.plot(x6,y6,'bx',label='integrated intensity 2. order')\n",
    "plt.plot(x6,out6.best_fit,'b',label='2. order fit, FWHM = {:.3f} ps'.format(out6.values['fwhm']))\n",
    "plt.legend(loc=1)\n",
    "plt.title(\"Sidebands with bam correction\")\n",
    "\n",
    "fig.suptitle(f'Run {run_number}: Effect of BAM correction',fontsize='22')"
   ]
  },
  {
   "cell_type": "code",
   "execution_count": null,
   "id": "16fba27b",
   "metadata": {},
   "outputs": [],
   "source": []
  },
  {
   "cell_type": "code",
   "execution_count": null,
   "id": "e2e6e852",
   "metadata": {},
   "outputs": [],
   "source": []
  }
 ],
 "metadata": {
  "kernelspec": {
   "display_name": "sed-processor-7Jy-bAA8-py3.9",
   "language": "python",
   "name": "python3"
  },
  "language_info": {
   "codemirror_mode": {
    "name": "ipython",
    "version": 3
   },
   "file_extension": ".py",
   "mimetype": "text/x-python",
   "name": "python",
   "nbconvert_exporter": "python",
   "pygments_lexer": "ipython3",
   "version": "3.9.19"
  }
 },
 "nbformat": 4,
 "nbformat_minor": 5
}
