{
 "cells": [
  {
   "cell_type": "code",
   "execution_count": null,
   "metadata": {
    "notebookRunGroups": {
     "groupValue": "1"
    }
   },
   "outputs": [],
   "source": [
    "from pathlib import Path\n",
    "\n",
    "from sed import SedProcessor\n",
    "import sed\n",
    "import numpy as np\n",
    "\n",
    "%matplotlib inline\n",
    "# %matplotlib ipympl\n",
    "import matplotlib.pyplot as plt"
   ]
  },
  {
   "cell_type": "code",
   "execution_count": null,
   "metadata": {
    "notebookRunGroups": {
     "groupValue": "1"
    }
   },
   "outputs": [],
   "source": [
    "%matplotlib widget"
   ]
  },
  {
   "cell_type": "code",
   "execution_count": null,
   "metadata": {
    "notebookRunGroups": {
     "groupValue": "1"
    }
   },
   "outputs": [],
   "source": [
    "local_path = Path(sed.__file__).parent.parent/'tutorial/'\n",
    "config_file = local_path/'hextof_config.yaml'\n",
    "assert config_file.exists()"
   ]
  },
  {
   "cell_type": "markdown",
   "metadata": {},
   "source": [
    "# Loading Data"
   ]
  },
  {
   "cell_type": "code",
   "execution_count": null,
   "metadata": {},
   "outputs": [],
   "source": [
    "config={\"core\": {\"paths\": {\n",
    "    \"data_raw_dir\": \"/asap3/flash/gpfs/pg2/2023/data/11019101/raw/hdf/offline/fl1user3\", \n",
    "    \"data_parquet_dir\": \"/home/agustsss/temp/sed_parquet/\"\n",
    "}}}\n",
    "sp = SedProcessor(runs=[44797], config=config, user_config=config_file, system_config={}, collect_metadata=False)"
   ]
  },
  {
   "cell_type": "code",
   "execution_count": null,
   "metadata": {},
   "outputs": [],
   "source": [
    "sp.add_jitter()\n",
    "sp.align_dld_sectors()"
   ]
  },
  {
   "cell_type": "markdown",
   "metadata": {},
   "source": [
    "# time-of-flight spectrum"
   ]
  },
  {
   "cell_type": "code",
   "execution_count": null,
   "metadata": {},
   "outputs": [],
   "source": [
    "sp.append_tof_ns_axis()"
   ]
  },
  {
   "cell_type": "code",
   "execution_count": null,
   "metadata": {},
   "outputs": [],
   "source": [
    "axes = ['sampleBias','dldTime']\n",
    "bins = [5, 250]\n",
    "ranges = [[28,33],  [650,800]]\n",
    "res = sp.compute(bins=bins, axes=axes, ranges=ranges)"
   ]
  },
  {
   "cell_type": "code",
   "execution_count": null,
   "metadata": {},
   "outputs": [],
   "source": [
    "plt.figure()\n",
    "res.plot.line(x='dldTime')"
   ]
  },
  {
   "cell_type": "markdown",
   "metadata": {},
   "source": [
    "# Energy Calibration"
   ]
  },
  {
   "cell_type": "markdown",
   "metadata": {},
   "source": [
    "## using lmfit"
   ]
  },
  {
   "cell_type": "code",
   "execution_count": null,
   "metadata": {},
   "outputs": [],
   "source": [
    "axes = ['sampleBias', 'dldTimeSteps']\n",
    "bins = [5, 500]\n",
    "ranges = [[28,33], [4000, 4800]]\n",
    "res = sp.compute(bins=bins, axes=axes, ranges=ranges)"
   ]
  },
  {
   "cell_type": "code",
   "execution_count": null,
   "metadata": {},
   "outputs": [],
   "source": [
    "sp.load_bias_series(binned_data=res)"
   ]
  },
  {
   "cell_type": "code",
   "execution_count": null,
   "metadata": {},
   "outputs": [],
   "source": [
    "ranges=(4120, 4200)\n",
    "ref_id=0\n",
    "sp.find_bias_peaks(ranges=ranges, ref_id=ref_id)"
   ]
  },
  {
   "cell_type": "code",
   "execution_count": null,
   "metadata": {},
   "outputs": [],
   "source": [
    "sp.calibrate_energy_axis(\n",
    "    ref_id=2,\n",
    "    ref_energy=-1,\n",
    "    method=\"lmfit\",\n",
    "    energy_scale='kinetic',\n",
    "    d={'value':1.,'min': .2, 'max':1.0, 'vary':True},\n",
    "    t0={'value':5e-7, 'min': 1e-7, 'max': 1e-6, 'vary':True},\n",
    "    E0={'value': 0., 'min': -100, 'max': 100, 'vary': True},\n",
    ")"
   ]
  },
  {
   "cell_type": "code",
   "execution_count": null,
   "metadata": {},
   "outputs": [],
   "source": [
    "sp.append_energy_axis()"
   ]
  },
  {
   "cell_type": "code",
   "execution_count": null,
   "metadata": {},
   "outputs": [],
   "source": [
    "sp.dataframe[['dldTime','dldTimeSteps','energy','dldSectorID']].head()"
   ]
  },
  {
   "cell_type": "code",
   "execution_count": null,
   "metadata": {},
   "outputs": [],
   "source": [
    "axes = ['sampleBias', 'energy']\n",
    "bins = [5, 500]\n",
    "ranges = [[28,33], [-10,10]]\n",
    "res = sp.compute(bins=bins, axes=axes, ranges=ranges)"
   ]
  },
  {
   "cell_type": "code",
   "execution_count": null,
   "metadata": {},
   "outputs": [],
   "source": [
    "plt.figure()\n",
    "res.mean('sampleBias').plot.line(x='energy',linewidth=3)\n",
    "res.plot.line(x='energy',linewidth=1,alpha=.5);"
   ]
  },
  {
   "cell_type": "code",
   "execution_count": null,
   "metadata": {},
   "outputs": [],
   "source": [
    "sp.dataframe"
   ]
  },
  {
   "cell_type": "code",
   "execution_count": null,
   "metadata": {},
   "outputs": [],
   "source": [
    "sp.add_energy_offset(\n",
    "    constant=0,\n",
    "    columns=['sampleBias','monochromatorPhotonEnergy','tofVoltage'],\n",
    "    signs=[1,-1,-1],\n",
    "    preserve_mean=True,\n",
    ")"
   ]
  },
  {
   "cell_type": "code",
   "execution_count": null,
   "metadata": {},
   "outputs": [],
   "source": [
    "sp.dataframe"
   ]
  },
  {
   "cell_type": "code",
   "execution_count": null,
   "metadata": {},
   "outputs": [],
   "source": [
    "axes = ['sampleBias', 'energy']\n",
    "bins = [5, 500]\n",
    "ranges = [[28,33], [-10,2]]\n",
    "res_fit = sp.compute(bins=bins, axes=axes, ranges=ranges)"
   ]
  },
  {
   "cell_type": "code",
   "execution_count": null,
   "metadata": {},
   "outputs": [],
   "source": [
    "plt.figure()\n",
    "ax = plt.subplot(111)\n",
    "res_fit.energy.attrs['unit'] = 'eV'\n",
    "res_fit.mean('sampleBias').plot.line(x='energy',linewidth=3, ax=ax)\n",
    "res_fit.plot.line(x='energy',linewidth=1,alpha=.5,label='all',ax=ax);"
   ]
  },
  {
   "cell_type": "markdown",
   "metadata": {},
   "source": [
    "### save the calibration parameters\n",
    "This is currently overwriting all other values in the config file you point at. Do not overwrite local settings! \n",
    "This should be fixed in the future."
   ]
  },
  {
   "cell_type": "code",
   "execution_count": null,
   "metadata": {},
   "outputs": [],
   "source": [
    "# sp.save_energy_calibration(filename=local_path/'hextof_config.yaml')b\n",
    "# sp.save_energy_offset(filename=local_path/'hextof_config.yaml')\n",
    "sp.save_workflow_params(filename=local_path/'hextof_config.yaml')"
   ]
  },
  {
   "cell_type": "markdown",
   "metadata": {},
   "source": [
    "# Correct delay axis"
   ]
  },
  {
   "cell_type": "code",
   "execution_count": null,
   "metadata": {
    "notebookRunGroups": {
     "groupValue": "2"
    }
   },
   "outputs": [],
   "source": [
    "config_dict={\n",
    "    \"core\": {\n",
    "        \"paths\": {\n",
    "            \"data_raw_dir\": \"/asap3/flash/gpfs/pg2/2023/data/11019101/raw/hdf/offline/fl1user3\", \n",
    "            \"data_parquet_dir\": \"/home/agustsss/temp/sed_parquet/\"\n",
    "        },\n",
    "        \"binning\":{\"num_cores\": 10}}}\n",
    "sp = SedProcessor(\n",
    "    runs=[44824,44825,44826,44827], \n",
    "    config=config_dict, \n",
    "    folder_config={},\n",
    "    user_config=config_file, \n",
    "    collect_metadata=False\n",
    ")"
   ]
  },
  {
   "cell_type": "code",
   "execution_count": null,
   "metadata": {
    "notebookRunGroups": {
     "groupValue": "2"
    }
   },
   "outputs": [],
   "source": [
    "sp.add_jitter()\n",
    "sp.align_dld_sectors()\n",
    "sp.append_energy_axis()\n",
    "sp.add_energy_offset()"
   ]
  },
  {
   "cell_type": "code",
   "execution_count": null,
   "metadata": {},
   "outputs": [],
   "source": [
    "axes = ['energy','delayStage']\n",
    "bins = [100,150]\n",
    "delay_start,delay_stop=1462.00,1464.85\n",
    "ranges = [[-5,2], [delay_start,delay_stop]]\n",
    "res = sp.compute(bins=bins, axes=axes, ranges=ranges)\n"
   ]
  },
  {
   "cell_type": "code",
   "execution_count": null,
   "metadata": {},
   "outputs": [],
   "source": [
    "fig,ax = plt.subplots(1,2,figsize=(10,4), layout='constrained')\n",
    "res.plot(robust=True, ax=ax[0])\n",
    "bg = res.isel(delayStage=slice(0,10)).mean('delayStage')\n",
    "(res-bg).plot(robust=True, ax=ax[1])"
   ]
  },
  {
   "cell_type": "code",
   "execution_count": null,
   "metadata": {},
   "outputs": [],
   "source": [
    "sp._config[\"dataframe\"][\"delay_column\"]"
   ]
  },
  {
   "cell_type": "code",
   "execution_count": null,
   "metadata": {
    "notebookRunGroups": {
     "groupValue": "2"
    }
   },
   "outputs": [],
   "source": [
    "sp.add_delay_offset(constant=-1463.7, flip_time_axis=True, columns=['bam'], signs=[0.001], preserve_mean=True)"
   ]
  },
  {
   "cell_type": "code",
   "execution_count": null,
   "metadata": {},
   "outputs": [],
   "source": [
    "sp.dataframe # This has generated too many layers, there is room for improvement!"
   ]
  },
  {
   "cell_type": "code",
   "execution_count": null,
   "metadata": {
    "notebookRunGroups": {
     "groupValue": "2"
    }
   },
   "outputs": [],
   "source": [
    "axes = ['energy','delayStage']\n",
    "bins = [100,150]\n",
    "delay_start,delay_stop=1462.00,1464.85\n",
    "ranges = [[-5,2], [-1.15, 1.7]]\n",
    "res = sp.compute(bins=bins, axes=axes, ranges=ranges)"
   ]
  },
  {
   "cell_type": "code",
   "execution_count": null,
   "metadata": {
    "notebookRunGroups": {
     "groupValue": "2"
    }
   },
   "outputs": [],
   "source": [
    "fig,ax = plt.subplots(1,2,figsize=(12,5))\n",
    "res.plot(robust=True, ax=ax[0])\n",
    "bg = res.isel(delayStage=slice(0,10)).mean('delayStage')\n",
    "(res-bg).plot(robust=True, ax=ax[1])"
   ]
  },
  {
   "cell_type": "code",
   "execution_count": null,
   "metadata": {
    "notebookRunGroups": {
     "groupValue": "2"
    }
   },
   "outputs": [],
   "source": [
    "sp.save_delay_offsets(filename=local_path/'hextof_config.yaml')"
   ]
  },
  {
   "cell_type": "markdown",
   "metadata": {},
   "source": [
    "# load and process from config"
   ]
  },
  {
   "cell_type": "code",
   "execution_count": null,
   "metadata": {
    "notebookRunGroups": {
     "groupValue": ""
    }
   },
   "outputs": [],
   "source": [
    "config_dict={\"core\": {\"paths\": {\n",
    "    \"data_raw_dir\": \"/asap3/flash/gpfs/pg2/2023/data/11019101/raw/hdf/offline/fl1user3\", \n",
    "    \"data_parquet_dir\": \"/home/agustsss/temp/sed_parquet/\"\n",
    "}}}\n",
    "# config = sed.core.config.parse_config(config=config_dict, folder_config=local_path/'energy_calibration.yaml', user_config={}, system_config={})\n",
    "sp = SedProcessor(runs=[44824,44825,44826,44827], config=config_dict, folder_config={}, user_config=config_file, collect_metadata=False)"
   ]
  },
  {
   "cell_type": "code",
   "execution_count": null,
   "metadata": {
    "notebookRunGroups": {
     "groupValue": ""
    }
   },
   "outputs": [],
   "source": [
    "sp.add_jitter()\n",
    "sp.align_dld_sectors()\n",
    "sp.append_tof_ns_axis()\n",
    "sp.append_energy_axis()\n",
    "sp.add_energy_offset()\n",
    "sp.add_delay_offset()"
   ]
  },
  {
   "cell_type": "code",
   "execution_count": null,
   "metadata": {},
   "outputs": [],
   "source": [
    "axes = ['energy','delayStage']\n",
    "bins = [100,150]\n",
    "delay_start,delay_stop=1462.00,1464.85\n",
    "ranges = [[-5,2], [-1.15, 1.7]]\n",
    "res = sp.compute(bins=bins, axes=axes, ranges=ranges)"
   ]
  },
  {
   "cell_type": "code",
   "execution_count": null,
   "metadata": {},
   "outputs": [],
   "source": [
    "fig,ax = plt.subplots(1,2,figsize=(12,5))\n",
    "res.plot(robust=True, ax=ax[0])\n",
    "bg = res.isel(delayStage=slice(0,10)).mean('delayStage')\n",
    "(res-bg).plot(robust=True, ax=ax[1])"
   ]
  },
  {
   "cell_type": "code",
   "execution_count": null,
   "metadata": {},
   "outputs": [],
   "source": [
    "sp.dataframe"
   ]
  },
  {
   "cell_type": "code",
   "execution_count": null,
   "metadata": {},
   "outputs": [],
   "source": []
  }
 ],
 "metadata": {
  "kernelspec": {
   "display_name": "sed38",
   "language": "python",
   "name": "sed38"
  },
  "language_info": {
   "codemirror_mode": {
    "name": "ipython",
    "version": 3
   },
   "file_extension": ".py",
   "mimetype": "text/x-python",
   "name": "python",
   "nbconvert_exporter": "python",
   "pygments_lexer": "ipython3",
   "version": "3.8.18"
  }
 },
 "nbformat": 4,
 "nbformat_minor": 2
}
