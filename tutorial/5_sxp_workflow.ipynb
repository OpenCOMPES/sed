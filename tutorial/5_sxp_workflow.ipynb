{
 "cells": [
  {
   "cell_type": "code",
   "execution_count": null,
   "metadata": {
    "notebookRunGroups": {
     "groupValue": "1"
    }
   },
   "outputs": [],
   "source": [
    "from pathlib import Path\n",
    "\n",
    "#%matplotlib inline\n",
    "%matplotlib widget\n",
    "import matplotlib.pyplot as plt\n",
    "import numpy as np\n",
    "\n",
    "import sed\n",
    "from sed import SedProcessor"
   ]
  },
  {
   "cell_type": "code",
   "execution_count": null,
   "metadata": {
    "notebookRunGroups": {
     "groupValue": "1"
    }
   },
   "outputs": [],
   "source": [
    "local_path = Path(sed.__file__).parent.parent / \"tutorial/\"\n",
    "config_file = local_path / \"sxp_config.yaml\"\n",
    "assert config_file.exists()"
   ]
  },
  {
   "cell_type": "markdown",
   "metadata": {},
   "source": [
    "# Loading Data"
   ]
  },
  {
   "cell_type": "code",
   "execution_count": null,
   "metadata": {},
   "outputs": [],
   "source": [
    "config = {\n",
    "    \"core\": {\n",
    "        \"paths\": {\n",
    "            \"data_raw_dir\": \"/gpfs/exfel/exp/SXP/202302/p004316/raw/\",\n",
    "            \"data_parquet_dir\": \"~/sxp_parquet/\",\n",
    "        }\n",
    "    }\n",
    "}\n",
    "sp = SedProcessor(\n",
    "    runs=[\"0058\", \"0059\", \"0060\", \"0061\"],\n",
    "    config=config,\n",
    "    user_config=config_file,\n",
    "    system_config={},\n",
    "    collect_metadata=False,\n",
    ")\n",
    "sp.add_jitter()"
   ]
  },
  {
   "cell_type": "markdown",
   "metadata": {},
   "source": [
    "## Inspect dataframe"
   ]
  },
  {
   "cell_type": "markdown",
   "metadata": {},
   "source": [
    "### Train IDs in scans "
   ]
  },
  {
   "cell_type": "code",
   "execution_count": null,
   "metadata": {},
   "outputs": [],
   "source": [
    "plt.figure()\n",
    "ids=sp.dataframe.trainId.compute().values\n",
    "plt.plot(ids)\n",
    "plt.show()"
   ]
  },
  {
   "cell_type": "markdown",
   "metadata": {},
   "source": [
    "### Dataframe columns"
   ]
  },
  {
   "cell_type": "code",
   "execution_count": null,
   "metadata": {},
   "outputs": [],
   "source": [
    "sp.dataframe.head()"
   ]
  },
  {
   "cell_type": "markdown",
   "metadata": {},
   "source": [
    "### Histograms"
   ]
  },
  {
   "cell_type": "code",
   "execution_count": null,
   "metadata": {},
   "outputs": [],
   "source": [
    "axes = [\"dldPosX\", \"dldPosY\", \"dldTimeSteps\", \"delayStage\"]\n",
    "bins = [100, 100, 100, 100]\n",
    "ranges = [(0, 4000), (0, 4000), (1000, 28000), (-1000, 1000)]\n",
    "sp.view_event_histogram(dfpid=3, axes=axes, bins=bins, ranges=ranges)"
   ]
  },
  {
   "cell_type": "markdown",
   "metadata": {},
   "source": [
    "### PulseIds, ElectronIds\n",
    "More hits at later microbunches"
   ]
  },
  {
   "cell_type": "code",
   "execution_count": null,
   "metadata": {},
   "outputs": [],
   "source": [
    "axes = [\"pulseId\", \"electronId\"]\n",
    "bins = [101, 11]\n",
    "ranges = [(-0.5, 800.5), (-0.5, 10.5)]\n",
    "sp.view_event_histogram(dfpid=1, axes=axes, bins=bins, ranges=ranges)"
   ]
  },
  {
   "cell_type": "markdown",
   "metadata": {},
   "source": [
    "## Spectrum vs. MicrobunchId"
   ]
  },
  {
   "cell_type": "code",
   "execution_count": null,
   "metadata": {},
   "outputs": [],
   "source": [
    "axes = [\"dldTimeSteps\", \"pulseId\"]\n",
    "bins = [200, 800]\n",
    "ranges = [(8000, 28000), (0, 800)]\n",
    "res = sp.compute(bins=bins, axes=axes, ranges=ranges)\n",
    "plt.figure()\n",
    "res.plot(robust=True)"
   ]
  },
  {
   "cell_type": "markdown",
   "metadata": {},
   "source": [
    "## Last bunch contains unusually many events \n",
    "garbadge events, filter away"
   ]
  },
  {
   "cell_type": "code",
   "execution_count": null,
   "metadata": {},
   "outputs": [],
   "source": [
    "sp.filter_column(\"pulseId\", max_value=756)"
   ]
  },
  {
   "cell_type": "code",
   "execution_count": null,
   "metadata": {},
   "outputs": [],
   "source": [
    "axes = [\"dldTimeSteps\", \"pulseId\"]\n",
    "bins = [200, 800]\n",
    "ranges = [(8000, 28000), (0, 800)]\n",
    "res = sp.compute(bins=bins, axes=axes, ranges=ranges)\n",
    "plt.figure()\n",
    "res.plot(robust=True)"
   ]
  },
  {
   "cell_type": "markdown",
   "metadata": {},
   "source": [
    "## Background changes with microbunchID / Intensity"
   ]
  },
  {
   "cell_type": "code",
   "execution_count": null,
   "metadata": {},
   "outputs": [],
   "source": [
    "plt.figure()\n",
    "(res.loc[{\"pulseId\":slice(0,50)}].sum(axis=1)/res.loc[{\"pulseId\":slice(0,50)}].sum(axis=1).mean()).plot()\n",
    "(res.loc[{\"pulseId\":slice(700,750)}].sum(axis=1)/res.loc[{\"pulseId\":slice(700,750)}].sum(axis=1).mean()).plot()\n",
    "plt.legend((\"mbID=0-50\", \"mbID=700-750\"))"
   ]
  },
  {
   "cell_type": "markdown",
   "metadata": {},
   "source": [
    "# Energy Calibration"
   ]
  },
  {
   "cell_type": "code",
   "execution_count": null,
   "metadata": {},
   "outputs": [],
   "source": [
    "sp.append_tof_ns_axis()"
   ]
  },
  {
   "cell_type": "code",
   "execution_count": null,
   "metadata": {},
   "outputs": [],
   "source": [
    "axes = [\"dldTime\"]\n",
    "bins = [150]\n",
    "ranges = [(-0.5, 150.5)]\n",
    "sp.view_event_histogram(dfpid=1, axes=axes, bins=bins, ranges=ranges)"
   ]
  },
  {
   "cell_type": "code",
   "execution_count": null,
   "metadata": {},
   "outputs": [],
   "source": [
    "import xarray as xr\n",
    "runs = [\"0074\", \"0073\", \"0072\", \"0071\", \"0070\", \"0064\", \"0065\", \"0066\", \"0067\", \"0068\", \"0069\"]\n",
    "biases = np.arange(962, 951, -1)\n",
    "data = []\n",
    "for run in runs:\n",
    "    sp.load(runs=[run])\n",
    "    axes = [\"dldTimeSteps\"]\n",
    "    bins = [2000]\n",
    "    ranges = [(1000, 25000)]\n",
    "    res = sp.compute(bins=bins, axes=axes, ranges=ranges)\n",
    "    data.append(res)\n",
    "    res.plot()\n",
    "\n",
    "biasSeries = xr.concat(data, dim=xr.DataArray(biases, dims=\"sampleBias\", name=\"sampleBias\"))"
   ]
  },
  {
   "cell_type": "code",
   "execution_count": null,
   "metadata": {},
   "outputs": [],
   "source": [
    "sp.load_bias_series(binned_data=biasSeries)"
   ]
  },
  {
   "cell_type": "code",
   "execution_count": null,
   "metadata": {},
   "outputs": [],
   "source": [
    "ranges=(6380, 6700)\n",
    "ref_id=6\n",
    "sp.find_bias_peaks(ranges=ranges, ref_id=ref_id, apply=True)"
   ]
  },
  {
   "cell_type": "code",
   "execution_count": null,
   "metadata": {},
   "outputs": [],
   "source": [
    "sp.calibrate_energy_axis(\n",
    "    ref_id=5,\n",
    "    ref_energy=-33,\n",
    "    method=\"lmfit\",\n",
    "    energy_scale='kinetic',\n",
    "    d={'value':1.1,'min': .2, 'max':5.0, 'vary':False},\n",
    "    t0={'value':-1E-8, 'min': -1E-6, 'max': 1e-4, 'vary':True},\n",
    "    E0={'value': 0., 'min': -1500, 'max': 1500, 'vary': True},\n",
    ")"
   ]
  },
  {
   "cell_type": "code",
   "execution_count": null,
   "metadata": {},
   "outputs": [],
   "source": [
    "sp.save_energy_calibration()"
   ]
  },
  {
   "cell_type": "code",
   "execution_count": null,
   "metadata": {},
   "outputs": [],
   "source": [
    "sp.append_energy_axis()"
   ]
  },
  {
   "cell_type": "markdown",
   "metadata": {},
   "source": [
    "W4f core levels, Energy vs. Delay"
   ]
  },
  {
   "cell_type": "code",
   "execution_count": null,
   "metadata": {},
   "outputs": [],
   "source": [
    "sp.load(runs=np.arange(58, 62))\n",
    "sp.add_jitter()\n",
    "sp.filter_column(\"pulseId\", max_value=756)\n",
    "sp.append_energy_axis()"
   ]
  },
  {
   "cell_type": "code",
   "execution_count": null,
   "metadata": {},
   "outputs": [],
   "source": [
    "axes = ['energy', \"delayStage\"]\n",
    "bins = [200, 100]\n",
    "ranges = [[-37,-31], [-135, -115]]\n",
    "res = sp.compute(bins=bins, axes=axes, ranges=ranges, normalize_to_acquisition_time=\"delayStage\")"
   ]
  },
  {
   "cell_type": "code",
   "execution_count": null,
   "metadata": {},
   "outputs": [],
   "source": [
    "res_sub = res - res.loc[{\"delayStage\": slice(-135, -130)}].mean(axis=1)\n",
    "fig, axs = plt.subplots(3, 1, figsize=(4, 8), constrained_layout=True)\n",
    "res.plot(ax=axs[0])\n",
    "res_sub.plot(ax=axs[1])\n",
    "res.loc[{\"energy\":slice(-2,0)}].sum(axis=0).plot(ax=axs[2])\n",
    "plt.title(\"W4f core levels, energy vs. delayStage\")"
   ]
  },
  {
   "cell_type": "markdown",
   "metadata": {},
   "source": [
    "# Scans 75, 79, 81"
   ]
  },
  {
   "cell_type": "code",
   "execution_count": null,
   "metadata": {},
   "outputs": [],
   "source": [
    "sp.load(runs=[75])\n",
    "sp.add_jitter()\n",
    "sp.filter_column(\"pulseId\", max_value=756)\n",
    "sp.append_energy_axis()\n",
    "axes = ['energy']\n",
    "bins = [1000]\n",
    "ranges = [[-60,2]]\n",
    "res75 = sp.compute(bins=bins, axes=axes, ranges=ranges)"
   ]
  },
  {
   "cell_type": "code",
   "execution_count": null,
   "metadata": {},
   "outputs": [],
   "source": [
    "sp.load(runs=[79])\n",
    "sp.add_jitter()\n",
    "sp.filter_column(\"pulseId\", max_value=756)\n",
    "sp.append_energy_axis()\n",
    "axes = ['energy']\n",
    "bins = [1000]\n",
    "ranges = [[-60,2]]\n",
    "res79 = sp.compute(bins=bins, axes=axes, ranges=ranges)"
   ]
  },
  {
   "cell_type": "code",
   "execution_count": null,
   "metadata": {},
   "outputs": [],
   "source": [
    "sp.load(runs=[81])\n",
    "sp.add_jitter()\n",
    "sp.filter_column(\"pulseId\", max_value=756)\n",
    "sp.append_energy_axis()\n",
    "axes = ['energy']\n",
    "bins = [1000]\n",
    "ranges = [[-60,2]]\n",
    "res81 = sp.compute(bins=bins, axes=axes, ranges=ranges)"
   ]
  },
  {
   "cell_type": "code",
   "execution_count": null,
   "metadata": {},
   "outputs": [],
   "source": [
    "plt.figure()\n",
    "(res75/res75.sum()).plot()\n",
    "(res79/res79.sum()).plot()\n",
    "(res81/res81.sum()).plot()\n",
    "plt.legend((\"Scan75\", \"Scan79\", \"Scan81\"))"
   ]
  },
  {
   "cell_type": "markdown",
   "metadata": {},
   "source": [
    "# Runs 82-83 Valence band"
   ]
  },
  {
   "cell_type": "code",
   "execution_count": null,
   "metadata": {},
   "outputs": [],
   "source": [
    "sp.load(runs=[\"0082\", \"0083\"])\n",
    "sp.add_jitter()\n",
    "sp.filter_column(\"pulseId\", max_value=756)\n",
    "sp.append_energy_axis()\n",
    "axes = ['energy', \"delayStage\"]\n",
    "bins = [200, 100]\n",
    "ranges = [[-6,2], [-135, -115]]\n",
    "res = sp.compute(bins=bins, axes=axes, ranges=ranges, normalize_to_acquisition_time=\"delayStage\")"
   ]
  },
  {
   "cell_type": "code",
   "execution_count": null,
   "metadata": {},
   "outputs": [],
   "source": [
    "res_sub = res - res.loc[{\"delayStage\": slice(-135, -130)}].mean(axis=1)\n",
    "fig, axs = plt.subplots(3, 1, figsize=(4, 8), constrained_layout=True)\n",
    "res.plot(ax=axs[0])\n",
    "res_sub.plot(ax=axs[1])\n",
    "res.loc[{\"energy\":slice(-2,0)}].sum(axis=0).plot(ax=axs[2])\n"
   ]
  },
  {
   "cell_type": "markdown",
   "metadata": {},
   "source": [
    "# Runs 98-106"
   ]
  },
  {
   "cell_type": "code",
   "execution_count": null,
   "metadata": {},
   "outputs": [],
   "source": [
    "sp.load(runs=[\"0098\", \"0099\", \"0100\", \"0101\", \"0102\", \"0103\", \"0104\", \"0105\", \"0106\"])\n",
    "sp.add_jitter()\n",
    "sp.filter_column(\"pulseId\", max_value=756)\n",
    "sp.append_energy_axis()\n",
    "axes = ['energy', \"delayStage\"]\n",
    "bins = [200, 50]\n",
    "ranges = [[-36,-30], [-130, -120]]\n",
    "res = sp.compute(bins=bins, axes=axes, ranges=ranges,  normalize_to_acquisition_time=\"delayStage\")"
   ]
  },
  {
   "cell_type": "code",
   "execution_count": null,
   "metadata": {},
   "outputs": [],
   "source": [
    "res_sub = res - res.loc[{\"delayStage\": slice(-126, -125)}].mean(axis=1)\n",
    "fig, axs = plt.subplots(2, 1, figsize=(4, 6), constrained_layout=True)\n",
    "res.plot(ax=axs[0])\n",
    "res_sub.plot(ax=axs[1])"
   ]
  },
  {
   "cell_type": "markdown",
   "metadata": {},
   "source": [
    "# Scans 110-114\n",
    "\n",
    "Some of these have only one train per acquisition, set the parameter in the config accordingly."
   ]
  },
  {
   "cell_type": "code",
   "execution_count": null,
   "metadata": {},
   "outputs": [],
   "source": [
    "config = {\n",
    "    \"core\": {\n",
    "        \"paths\": {\n",
    "            \"data_raw_dir\": \"../..//GPFS/exfel/exp/SXP/202302/p004316/raw/\",\n",
    "            \"data_parquet_dir\": \"../../sxp_parquet/\",\n",
    "        }\n",
    "    },\n",
    "    \"dataframe\": {\"num_trains\": 1},\n",
    "}\n",
    "sp = SedProcessor(\n",
    "    runs=np.arange(110, 115),\n",
    "    config=config,\n",
    "    user_config=config_file,\n",
    "    system_config={},\n",
    "    collect_metadata=False,\n",
    "    force_recreate=True,\n",
    ")\n",
    "sp.add_jitter()\n",
    "sp.filter_column(\"pulseId\", max_value=756)\n",
    "sp.append_energy_axis()\n",
    "sp.add_energy_offset(constant=(992-957))\n",
    "axes = ['energy', \"delayStage\"]\n",
    "bins = [200, 50]\n",
    "ranges = [[-5,5], [-130, -120]]\n",
    "res = sp.compute(bins=bins, axes=axes, ranges=ranges,  normalize_to_acquisition_time=\"delayStage\")"
   ]
  },
  {
   "cell_type": "code",
   "execution_count": null,
   "metadata": {},
   "outputs": [],
   "source": [
    "res_sub = res - res.loc[{\"delayStage\": slice(-130, -127)}].mean(axis=1)\n",
    "fig, axs = plt.subplots(2, 1, figsize=(4, 6), constrained_layout=True)\n",
    "res.plot(ax=axs[0])\n",
    "res_sub.plot(ax=axs[1])"
   ]
  },
  {
   "cell_type": "code",
   "execution_count": null,
   "metadata": {},
   "outputs": [],
   "source": [
    "# Scans 140-159"
   ]
  },
  {
   "cell_type": "code",
   "execution_count": null,
   "metadata": {},
   "outputs": [],
   "source": [
    "config = {\n",
    "    \"core\": {\n",
    "        \"paths\": {\n",
    "            \"data_raw_dir\": \"../..//GPFS/exfel/exp/SXP/202302/p004316/raw/\",\n",
    "            \"data_parquet_dir\": \"../../sxp_parquet/\",\n",
    "        }\n",
    "    },\n",
    "}\n",
    "sp = SedProcessor(\n",
    "    runs=np.arange(140,160),\n",
    "    config=config,\n",
    "    user_config=config_file,\n",
    "    system_config={},\n",
    "    collect_metadata=False,\n",
    "    #force_recreate=True,\n",
    ")\n",
    "sp.filter_column(\"pulseId\", max_value=756)\n",
    "sp.add_jitter()\n",
    "sp.append_energy_axis()\n",
    "axes = ['energy', \"delayStage\"]\n",
    "bins = [200, 50]\n",
    "ranges = [[-36,-30], [-133, -122]]\n",
    "res = sp.compute(bins=bins, axes=axes, ranges=ranges,  normalize_to_acquisition_time=\"delayStage\")"
   ]
  },
  {
   "cell_type": "code",
   "execution_count": null,
   "metadata": {},
   "outputs": [],
   "source": [
    "res_sub = res - res.loc[{\"delayStage\": slice(-133, -130)}].mean(axis=1)\n",
    "fig, axs = plt.subplots(2, 1, figsize=(4, 6), constrained_layout=True)\n",
    "res.plot(ax=axs[0])\n",
    "res_sub.plot(ax=axs[1])\n",
    "plt.title(\"Scans 140-159 W 4f\")"
   ]
  },
  {
   "cell_type": "code",
   "execution_count": null,
   "metadata": {},
   "outputs": [],
   "source": [
    "plt.figure()\n",
    "res_sub.loc[{\"energy\": slice(-32, -31.5)}].sum(axis=0).plot()\n",
    "plt.axhline(0, color=\"k\")\n",
    "plt.axvline(-127.5, color=\"k\")\n",
    "plt.title(\"Scans 140-159 W 4f, high-energy flank\")"
   ]
  },
  {
   "cell_type": "code",
   "execution_count": null,
   "metadata": {},
   "outputs": [],
   "source": [
    "plt.figure()\n",
    "res.loc[{\"delayStage\": slice(-133, -130)}].sum(axis=1).plot()\n",
    "res.loc[{\"delayStage\": slice(-125, -122)}].sum(axis=1).plot()\n",
    "plt.legend((\"-133 -> -130 ps\", \"-125 -> -122 ps\"))"
   ]
  },
  {
   "cell_type": "code",
   "execution_count": null,
   "metadata": {},
   "outputs": [],
   "source": []
  }
 ],
 "metadata": {
  "kernelspec": {
   "display_name": "sed-odDZdDHM-py3.9",
   "language": "python",
   "name": "python3"
  },
  "language_info": {
   "codemirror_mode": {
    "name": "ipython",
    "version": 3
   },
   "file_extension": ".py",
   "mimetype": "text/x-python",
   "name": "python",
   "nbconvert_exporter": "python",
   "pygments_lexer": "ipython3",
   "version": "3.8.12"
  }
 },
 "nbformat": 4,
 "nbformat_minor": 4
}
