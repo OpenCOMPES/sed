{
 "cells": [
  {
   "cell_type": "code",
   "execution_count": null,
   "id": "fb045e17-fa89-4c11-9d51-7f06e80d96d5",
   "metadata": {},
   "outputs": [],
   "source": [
    "%load_ext autoreload\n",
    "%autoreload 2\n",
    "import numpy as np\n",
    "import matplotlib.pyplot as plt\n",
    "import sed\n",
    "from sed.dataset import dataset\n",
    "\n",
    "%matplotlib widget"
   ]
  },
  {
   "attachments": {},
   "cell_type": "markdown",
   "id": "42a6afaa-17dd-4637-ba75-a28c4ead1adf",
   "metadata": {},
   "source": [
    "## Load Data"
   ]
  },
  {
   "cell_type": "code",
   "execution_count": null,
   "id": "f1f82054",
   "metadata": {},
   "outputs": [],
   "source": [
    "# create sed processor using the config file:\n",
    "folder = \"./data/\"\n",
    "sp = sed.SedProcessor(folder=folder, config=\"./dima_lab_config.yaml\", system_config={}, verbose=True)"
   ]
  },
  {
   "cell_type": "code",
   "execution_count": null,
   "id": "7203d4ec",
   "metadata": {},
   "outputs": [],
   "source": [
    "sp.dataframe"
   ]
  },
  {
   "cell_type": "code",
   "execution_count": null,
   "id": "50d0a3b3",
   "metadata": {},
   "outputs": [],
   "source": [
    "# Apply jittering to X, Y, t, ADC columns.\n",
    "# Columns are defined in the config, or can be provided as list.\n",
    "sp.add_jitter()"
   ]
  },
  {
   "cell_type": "code",
   "execution_count": null,
   "id": "fb074f29",
   "metadata": {},
   "outputs": [],
   "source": [
    "# Inspect data in dataframe Columns:\n",
    "axes = ['X', 'Y', 't']\n",
    "bins = [100, 100, 100]\n",
    "ranges = [(0, 1800), (0, 1800), (00000, 60000)]\n",
    "sp.view_event_histogram(dfpid=1, axes=axes, bins=bins, ranges=ranges)\n",
    "#sp.view_event_histogram(dfpid=1)"
   ]
  },
  {
   "cell_type": "code",
   "execution_count": null,
   "id": "05488944",
   "metadata": {},
   "outputs": [],
   "source": []
  }
 ],
 "metadata": {
  "kernelspec": {
   "display_name": ".venv",
   "language": "python",
   "name": "python3"
  },
  "language_info": {
   "codemirror_mode": {
    "name": "ipython",
    "version": 3
   },
   "file_extension": ".py",
   "mimetype": "text/x-python",
   "name": "python",
   "nbconvert_exporter": "python",
   "pygments_lexer": "ipython3",
   "version": "3.10.16"
  }
 },
 "nbformat": 4,
 "nbformat_minor": 5
}
