{
 "cells": [
  {
   "cell_type": "code",
   "execution_count": null,
   "id": "d33dec83-015b-4b86-9a84-81d10453fe25",
   "metadata": {},
   "outputs": [],
   "source": [
    "%load_ext autoreload\n",
    "%autoreload 2\n",
    "\n",
    "from pathlib import Path\n",
    "import os\n",
    "\n",
    "from sed import SedProcessor\n",
    "from sed.dataset import dataset\n",
    "import numpy as np\n",
    "\n",
    "%matplotlib widget\n",
    "import matplotlib.pyplot as plt\n",
    "\n",
    "import json\n",
    "\n",
    "### for automatic peak finding\n",
    "from scipy.signal import find_peaks\n",
    "\n",
    "from sed.calibrator.energy import tof2ev"
   ]
  },
  {
   "cell_type": "markdown",
   "id": "2c147a5f-d84d-448a-9685-056035e464ed",
   "metadata": {},
   "source": [
    "## Get data paths\n",
    "\n",
    "If it is your beamtime, you can read the raw data and write to the processed directory. For the public data, you can not write to the processed directory.\n",
    "\n",
    "The paths are such that if you are on Maxwell, it uses those. Otherwise, data is downloaded in the current directory from Zenodo:\n",
    "https://zenodo.org/records/12609441"
   ]
  },
  {
   "cell_type": "code",
   "execution_count": null,
   "id": "7435190c-02b4-4e4a-82ca-3a8569751eb8",
   "metadata": {},
   "outputs": [],
   "source": [
    "beamtime_dir = \"/asap3/flash/gpfs/pg2/2023/data/11019101\" # on Maxwell\n",
    "if os.path.exists(beamtime_dir) and os.access(beamtime_dir, os.R_OK):\n",
    "    path = beamtime_dir + \"/raw/hdf/offline/fl1user3\"\n",
    "    buffer_path = beamtime_dir + \"/processed/tutorial/\"\n",
    "else:\n",
    "    # data_path can be defined and used to store the data in a specific location\n",
    "    dataset.get(\"W110\") # Put in Path to a storage of at least 10 Gbyte free space.\n",
    "    path = dataset.dir\n",
    "    buffer_path = path + \"/processed/\""
   ]
  },
  {
   "cell_type": "markdown",
   "id": "92b884c6-416c-43dc-9ea4-59aeb04cd045",
   "metadata": {},
   "source": [
    "## Config setup\n",
    "\n",
    "Here, we get the path to the config file and set up the relevant directories. This can also be done directly in the config file."
   ]
  },
  {
   "cell_type": "code",
   "execution_count": null,
   "id": "3cfe124d-4758-47be-afb2-d9d735575c0a",
   "metadata": {},
   "outputs": [],
   "source": [
    "# pick the default configuration file for hextof@FLASH\n",
    "config_file = Path('../sed/config/flash_example_config.yaml')\n",
    "assert config_file.exists()"
   ]
  },
  {
   "cell_type": "code",
   "execution_count": null,
   "id": "25135c58-41ae-467d-97fa-b726075e687d",
   "metadata": {},
   "outputs": [],
   "source": [
    "# here we setup a dictionary that will be used to override the path configuration\n",
    "config_override = {\n",
    "    \"core\": {\n",
    "        \"beamtime_id\": 11019101,\n",
    "        \"paths\": {\n",
    "            \"data_raw_dir\": path,\n",
    "            \"data_parquet_dir\": buffer_path\n",
    "        },\n",
    "    },\n",
    "}"
   ]
  },
  {
   "cell_type": "markdown",
   "id": "98266c62-ab48-4746-96c8-2d47cf92c0e9",
   "metadata": {},
   "source": [
    "### Now we can use those parameters and load our trXPS data using additional config file"
   ]
  },
  {
   "cell_type": "code",
   "execution_count": null,
   "id": "2153366b-f27e-43cc-bd27-af005e7ea5d6",
   "metadata": {},
   "outputs": [],
   "source": [
    "run_number = 44498\n",
    "sp_44498 = SedProcessor(runs=[run_number], config=config_override, system_config=config_file, verbose=True)\n",
    "sp_44498.add_jitter()"
   ]
  },
  {
   "cell_type": "markdown",
   "id": "64c4c240-6fdc-41b4-8390-97af84764232",
   "metadata": {},
   "source": [
    "### We can correct delay stage, t0 position and BAM"
   ]
  },
  {
   "cell_type": "code",
   "execution_count": null,
   "id": "c8b29775-6baa-422f-9530-286a5ae40d78",
   "metadata": {},
   "outputs": [],
   "source": [
    "sp_44498.add_delay_offset(\n",
    "    constant=-1448, # this is time zero position determined from side band fit\n",
    "    flip_delay_axis=True, # invert the direction of the delay axis\n",
    "    columns=['bam'], # use the bam to offset the values\n",
    "    weights=[-0.001], # bam is in fs, delay in ps\n",
    "    preserve_mean=True # preserve the mean of the delay axis to keep t0 position\n",
    ")"
   ]
  },
  {
   "cell_type": "markdown",
   "id": "6c2c8918-322b-4429-8ee9-cc8d032c82d3",
   "metadata": {},
   "source": [
    "### Vizualize trXPS data bin in the dldTimeSteps and the corrected delay axis to prepare for energy calibration using SB"
   ]
  },
  {
   "cell_type": "code",
   "execution_count": null,
   "id": "10c45742-f7f4-4c80-bdcf-fc04a5158b77",
   "metadata": {},
   "outputs": [],
   "source": [
    "axes = ['dldTimeSteps', 'delayStage']\n",
    "ranges = [[3900,4200], [-1.5,1.5]]\n",
    "bins = [100,60]\n",
    "res_corr = sp_44498.compute(bins=bins, axes=axes, ranges=ranges, normalize_to_acquisition_time=\"delayStage\")\n",
    "\n",
    "fig,ax = plt.subplots(1,2,figsize=(8,3), layout='constrained')\n",
    "fig.suptitle(f\"Run {run_number}: W 4f, side bands\")\n",
    "res_corr.plot(robust=True, ax=ax[0], cmap='terrain')\n",
    "ax[0].set_title('raw')\n",
    "bg = res_corr.sel(delayStage=slice(-1.3,-1.0)).mean('delayStage')\n",
    "(res_corr-bg).plot(robust=True, ax=ax[1])\n",
    "ax[1].set_title('difference')"
   ]
  },
  {
   "cell_type": "markdown",
   "id": "423a4936-38e6-4432-bbee-b52bd655fe03",
   "metadata": {},
   "source": [
    "### Automaticaly extract number and position of peaks in the ROI around t0"
   ]
  },
  {
   "cell_type": "code",
   "execution_count": null,
   "id": "310b0737-4d28-4b76-a725-7d84a16355f7",
   "metadata": {},
   "outputs": [],
   "source": [
    "# binned data\n",
    "roi = slice(3980, 4160)\n",
    "delay = slice(-0.5,0.5)\n",
    "data = res_corr.sel(dldTimeSteps = roi, delayStage=delay).sum('delayStage')\n",
    "distance = 7\n",
    "peaks, _ = find_peaks(data, height=None, distance=distance)\n",
    "\n",
    "p1SB = data[peaks]['dldTimeSteps'][0]\n",
    "W4f5 = data[peaks]['dldTimeSteps'][1]\n",
    "m1SB = data[peaks]['dldTimeSteps'][2]\n",
    "W4f7 = data[peaks]['dldTimeSteps'][3]\n",
    "mm1SB = data[peaks]['dldTimeSteps'][4]\n",
    "plt.figure()\n",
    "data.plot()\n",
    "plt.scatter(data[peaks]['dldTimeSteps'], data[peaks], c='r')#, \"x\")\n",
    "plt.vlines([p1SB-7,p1SB+7], 0, 150, color='violet', linestyles='dashed', label='$1^{st}$ order SB')\n",
    "plt.vlines([W4f5-7,W4f5+7], 0, 150, color='b', linestyles='dashed', label='W 4f 7/2')\n",
    "plt.vlines([m1SB-7,m1SB+7], 0, 150, color='g', linestyles='dashed', label='$-1^{st}$ order SB')\n",
    "plt.vlines([W4f7-7,W4f7+7], 0, 150, color='r', linestyles='dashed', label='W 4f 5/2')\n",
    "plt.vlines([mm1SB-7,mm1SB+7], 0, 150, color='orange', linestyles='dashed', label='$2nd -1^{st}$ order SB')\n",
    "plt.legend()\n",
    "plt.show()"
   ]
  },
  {
   "cell_type": "markdown",
   "id": "f2bee3d0-0ad9-4ed7-8356-16333cf48774",
   "metadata": {},
   "source": [
    "### find calibration parameters\n",
    "We now will fit the tof-energy relation. This is done using the maxima of a peak in the ToF spectrum and the known kinetic energy of those peaks (kinetic energy of e.g. W4f peaks (-31.4 and -33.6 eV) and their SB of different orders accounting energy of pump beam of 1030 nm = 1.2 eV. The calibration parameters are obtained by fitting the square root relation."
   ]
  },
  {
   "cell_type": "code",
   "execution_count": null,
   "id": "10752d1f-53c1-4871-b2fd-65a0101aba9a",
   "metadata": {},
   "outputs": [],
   "source": [
    "### Kinetic energy of w4f peaks and their SB\n",
    "Ekins = np.array([-30.2,-31.4,-32.6,-33.6,-34.8])\n",
    "reference = -31.4\n",
    "ref_id = 1\n",
    "\n",
    "params=sp_44498.ec.calibrate(\n",
    "    landmarks = data[peaks]['dldTimeSteps'],\n",
    "    biases = -1*Ekins,\n",
    "    ref_id=ref_id,\n",
    "    ref_energy=reference,\n",
    "    method=\"lmfit\",\n",
    "    d={'value':1.0,'min': .8, 'max':1.0, 'vary':True},\n",
    "    t0={'value':5e-7, 'min': 1e-7, 'max': 1e-6, 'vary':True},\n",
    "    E0={'value': -100., 'min': -200, 'max': 15, 'vary': True},\n",
    "    verbose=True)\n",
    "\n",
    "plt.show()"
   ]
  },
  {
   "cell_type": "code",
   "execution_count": null,
   "id": "3323f9c3-3180-42b4-a599-b9b3fc99c44b",
   "metadata": {},
   "outputs": [],
   "source": [
    "sp_44498.save_energy_calibration()"
   ]
  },
  {
   "cell_type": "markdown",
   "id": "4052d629-1178-4248-a945-d60a6ff34bf3",
   "metadata": {},
   "source": [
    "## Append energy axis into a data frame, bin and visualize data in the calibrated energy and corrected delay axis "
   ]
  },
  {
   "cell_type": "code",
   "execution_count": null,
   "id": "d37a8e16-d91c-4b93-be79-4d4f5ddd2dd0",
   "metadata": {},
   "outputs": [],
   "source": [
    "sp_44498.append_energy_axis()"
   ]
  },
  {
   "cell_type": "code",
   "execution_count": null,
   "id": "4b78aab7-7a04-46f8-9e68-05f595758b7c",
   "metadata": {},
   "outputs": [],
   "source": [
    "axes = ['energy', 'delayStage']\n",
    "ranges = [[-37.5,-27.5], [-1.5,1.5]]\n",
    "bins = [200,60]\n",
    "res_corr = sp_44498.compute(bins=bins, axes=axes, ranges=ranges, normalize_to_acquisition_time=\"delayStage\")\n",
    "\n",
    "fig,ax = plt.subplots(1,2,figsize=(8,3), layout='constrained')\n",
    "fig.suptitle(f\"Run {run_number}: W 4f, side bands\")\n",
    "res_corr.plot(robust=True, ax=ax[0], cmap='terrain')\n",
    "ax[0].set_title('raw')\n",
    "bg = res_corr.sel(delayStage=slice(-1.3,-1.0)).mean('delayStage')\n",
    "(res_corr-bg).plot(robust=True, ax=ax[1])\n",
    "ax[1].set_title('difference')"
   ]
  },
  {
   "cell_type": "code",
   "execution_count": null,
   "id": "d83d0eb6-34f2-4eec-a568-3a1767d8e705",
   "metadata": {},
   "outputs": [],
   "source": []
  }
 ],
 "metadata": {
  "kernelspec": {
   "display_name": "sed-processor-3qnpZCFI-py3.9",
   "language": "python",
   "name": "python3"
  },
  "language_info": {
   "codemirror_mode": {
    "name": "ipython",
    "version": 3
   },
   "file_extension": ".py",
   "mimetype": "text/x-python",
   "name": "python",
   "nbconvert_exporter": "python",
   "pygments_lexer": "ipython3",
   "version": "3.9.19"
  }
 },
 "nbformat": 4,
 "nbformat_minor": 5
}
