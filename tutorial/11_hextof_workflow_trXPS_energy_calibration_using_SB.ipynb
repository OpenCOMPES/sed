{
 "cells": [
  {
   "cell_type": "markdown",
   "id": "916b6dc6",
   "metadata": {},
   "source": [
    "# Tutorial for trXPS for energy calibration using core level side-bands"
   ]
  },
  {
   "cell_type": "markdown",
   "id": "61c9f989",
   "metadata": {},
   "source": [
    "## Preparation"
   ]
  },
  {
   "cell_type": "markdown",
   "id": "aacad72f",
   "metadata": {},
   "source": [
    "### Import necessary libraries"
   ]
  },
  {
   "cell_type": "code",
   "execution_count": null,
   "id": "5e6dcd73",
   "metadata": {},
   "outputs": [],
   "source": [
    "%load_ext autoreload\n",
    "%autoreload 2\n",
    "\n",
    "from pathlib import Path\n",
    "import os\n",
    "\n",
    "from sed import SedProcessor\n",
    "from sed.dataset import dataset\n",
    "import numpy as np\n",
    "\n",
    "%matplotlib widget\n",
    "import matplotlib.pyplot as plt\n",
    "\n",
    "### for automatic peak finding\n",
    "from scipy.signal import find_peaks"
   ]
  },
  {
   "cell_type": "markdown",
   "id": "2c147a5f-d84d-448a-9685-056035e464ed",
   "metadata": {},
   "source": [
    "### Get data paths\n",
    "\n",
    "If it is your beamtime, you can read the raw data and write to the processed directory. For the public data, you can not write to the processed directory.\n",
    "\n",
    "The paths are such that if you are on Maxwell, it uses those. Otherwise, data is downloaded in the current directory from Zenodo:\n",
    "https://zenodo.org/records/12609441"
   ]
  },
  {
   "cell_type": "code",
   "execution_count": null,
   "id": "7435190c-02b4-4e4a-82ca-3a8569751eb8",
   "metadata": {},
   "outputs": [],
   "source": [
    "beamtime_dir = \"/asap3/flash/gpfs/pg2/2023/data/11019101\" # on Maxwell\n",
    "if os.path.exists(beamtime_dir) and os.access(beamtime_dir, os.R_OK):\n",
    "    path = beamtime_dir + \"/raw/hdf/offline/fl1user3\"\n",
    "    buffer_path = beamtime_dir + \"/processed/tutorial/\"\n",
    "else:\n",
    "    # data_path can be defined and used to store the data in a specific location\n",
    "    dataset.get(\"W110\") # Put in Path to a storage of at least 10 GByte free space.\n",
    "    path = dataset.dir\n",
    "    buffer_path = path + \"/processed/\""
   ]
  },
  {
   "cell_type": "markdown",
   "id": "92b884c6-416c-43dc-9ea4-59aeb04cd045",
   "metadata": {},
   "source": [
    "### Config setup\n",
    "\n",
    "Here, we get the path to the config file and set up the relevant directories. This can also be done directly in the config file."
   ]
  },
  {
   "cell_type": "code",
   "execution_count": null,
   "id": "3cfe124d-4758-47be-afb2-d9d735575c0a",
   "metadata": {},
   "outputs": [],
   "source": [
    "# pick the default configuration file for hextof@FLASH\n",
    "config_file = Path('../src/sed/config/flash_example_config.yaml')\n",
    "assert config_file.exists()"
   ]
  },
  {
   "cell_type": "code",
   "execution_count": null,
   "id": "25135c58-41ae-467d-97fa-b726075e687d",
   "metadata": {},
   "outputs": [],
   "source": [
    "# here we setup a dictionary that will be used to override the path configuration\n",
    "config_override = {\n",
    "    \"core\": {\n",
    "        \"beamtime_id\": 11019101,\n",
    "        \"paths\": {\n",
    "            \"raw\": path,\n",
    "            \"processed\": buffer_path\n",
    "        },\n",
    "    },\n",
    "}"
   ]
  },
  {
   "cell_type": "markdown",
   "id": "a47990f8",
   "metadata": {},
   "source": [
    "## Reference calibration from a bias series"
   ]
  },
  {
   "cell_type": "code",
   "execution_count": null,
   "id": "df0520c7",
   "metadata": {},
   "outputs": [],
   "source": [
    "sp_44455 = SedProcessor(runs=[44455], config=config_override, system_config=config_file)\n",
    "sp_44455.add_jitter()\n",
    "sp_44455.align_dld_sectors()"
   ]
  },
  {
   "cell_type": "markdown",
   "id": "3728fdd2",
   "metadata": {},
   "source": [
    "### find calibration parameters\n",
    "We now will fit the tof-energy relation. This is done by finding the maxima of a peak in the tof spectrum, and then fitting the square root relation to obtain the calibration parameters."
   ]
  },
  {
   "cell_type": "code",
   "execution_count": null,
   "id": "c7156708",
   "metadata": {},
   "outputs": [],
   "source": [
    "axes = ['sampleBias','dldTimeSteps']\n",
    "bins = [4, 250]\n",
    "ranges = [[77.5,81.5],  [4050,4500]]\n",
    "res = sp_44455.compute(bins=bins, axes=axes, ranges=ranges)\n",
    "sp_44455.load_bias_series(binned_data=res)"
   ]
  },
  {
   "cell_type": "code",
   "execution_count": null,
   "id": "e30cfea9",
   "metadata": {},
   "outputs": [],
   "source": [
    "ranges=(4120, 4200)\n",
    "ref_id=0\n",
    "sp_44455.find_bias_peaks(ranges=ranges, ref_id=ref_id, apply=True)"
   ]
  },
  {
   "cell_type": "code",
   "execution_count": null,
   "id": "bfe5f039",
   "metadata": {},
   "outputs": [],
   "source": [
    "sp_44455.calibrate_energy_axis(\n",
    "    ref_energy=-31.4,\n",
    "    method=\"lmfit\",\n",
    "    energy_scale='kinetic',\n",
    "    d={'value':1.0,'min': .7, 'max':1.0, 'vary':True},\n",
    "    t0={'value':5e-7, 'min': 1e-7, 'max': 1e-6, 'vary':True},\n",
    "    E0={'value': 0., 'min': -200, 'max': 100, 'vary': True},\n",
    ")"
   ]
  },
  {
   "cell_type": "markdown",
   "id": "11e375bd",
   "metadata": {},
   "source": [
    "Now that we have the calibration parameters, we can generate the energy axis for each spectrum"
   ]
  },
  {
   "cell_type": "code",
   "execution_count": null,
   "id": "626093ec",
   "metadata": {},
   "outputs": [],
   "source": [
    "sp_44455.save_energy_calibration(\"reference_calib.yaml\")"
   ]
  },
  {
   "cell_type": "markdown",
   "id": "98266c62-ab48-4746-96c8-2d47cf92c0e9",
   "metadata": {},
   "source": [
    "### Now we can use those parameters and load our trXPS data using the additional config file\n",
    "To obtain a correct energy axis, we offset the energy axis by the difference of photon energy between this run and the energy calibration runs"
   ]
  },
  {
   "cell_type": "code",
   "execution_count": null,
   "id": "2153366b-f27e-43cc-bd27-af005e7ea5d6",
   "metadata": {},
   "outputs": [],
   "source": [
    "run_number = 44498\n",
    "sp_44498 = SedProcessor(runs=[run_number], config=config_override, folder_config=\"reference_calib.yaml\", system_config=config_file, verbose=True)\n",
    "sp_44498.add_jitter()\n",
    "sp_44498.append_energy_axis()\n",
    "sp_44498.add_energy_offset(\n",
    "    constant=1,\n",
    "    columns=['monochromatorPhotonEnergy','tofVoltage'],\n",
    "    weights=[-1,-1],\n",
    "    preserve_mean=[True, True],\n",
    ")"
   ]
  },
  {
   "cell_type": "markdown",
   "id": "ca21d0dd",
   "metadata": {},
   "source": [
    "And bin an energy spectrum for reference"
   ]
  },
  {
   "cell_type": "code",
   "execution_count": null,
   "id": "217395ee",
   "metadata": {},
   "outputs": [],
   "source": [
    "axes = ['energy']\n",
    "ranges = [[-37.5,-27.5]]\n",
    "bins = [200]\n",
    "res_ref = sp_44498.compute(bins=bins, axes=axes, ranges=ranges)\n",
    "\n",
    "plt.figure()\n",
    "res_ref.plot()"
   ]
  },
  {
   "cell_type": "markdown",
   "id": "0d735518",
   "metadata": {},
   "source": [
    "## Energy calibration using side-band peaks"
   ]
  },
  {
   "cell_type": "markdown",
   "id": "6c2c8918-322b-4429-8ee9-cc8d032c82d3",
   "metadata": {},
   "source": [
    "### Visualize trXPS data bin in the dldTimeSteps and the corrected delay axis to prepare for energy calibration using SB\n",
    "We now prepare for an alternative energy calibration based on the side-bands of the time-dependent dataset. This is e.g. helpful if no bias series has been obtained."
   ]
  },
  {
   "cell_type": "code",
   "execution_count": null,
   "id": "1260af8e",
   "metadata": {},
   "outputs": [],
   "source": [
    "run_number = 44498\n",
    "sp_44498 = SedProcessor(runs=[run_number], config=config_override, system_config=config_file, verbose=True)\n",
    "sp_44498.add_jitter()"
   ]
  },
  {
   "cell_type": "markdown",
   "id": "b0c90a6f",
   "metadata": {},
   "source": [
    "### We correct delay stage, t0 position and BAM (see previous tutorial)"
   ]
  },
  {
   "cell_type": "code",
   "execution_count": null,
   "id": "ed13e712",
   "metadata": {},
   "outputs": [],
   "source": [
    "sp_44498.add_delay_offset(\n",
    "    constant=-1448, # this is time zero position determined from side band fit\n",
    "    flip_delay_axis=True, # invert the direction of the delay axis\n",
    "    columns=['bam'], # use the bam to offset the values\n",
    "    weights=[-0.001], # bam is in fs, delay in ps\n",
    "    preserve_mean=True # preserve the mean of the delay axis to keep t0 position\n",
    ")"
   ]
  },
  {
   "cell_type": "code",
   "execution_count": null,
   "id": "10c45742-f7f4-4c80-bdcf-fc04a5158b77",
   "metadata": {},
   "outputs": [],
   "source": [
    "axes = ['dldTimeSteps', 'delayStage']\n",
    "ranges = [[3900,4200], [-1.5,1.5]]\n",
    "bins = [100,60]\n",
    "res_corr = sp_44498.compute(bins=bins, axes=axes, ranges=ranges, normalize_to_acquisition_time=\"delayStage\")\n",
    "\n",
    "fig,ax = plt.subplots(1,2,figsize=(8,3), layout='constrained')\n",
    "fig.suptitle(f\"Run {run_number}: W 4f, side bands\")\n",
    "res_corr.plot(ax=ax[0], cmap='terrain')\n",
    "ax[0].set_title('raw')\n",
    "bg = res_corr.sel(delayStage=slice(-1.3,-1.0)).mean('delayStage')\n",
    "(res_corr-bg).plot(ax=ax[1])\n",
    "ax[1].set_title('difference')"
   ]
  },
  {
   "cell_type": "markdown",
   "id": "423a4936-38e6-4432-bbee-b52bd655fe03",
   "metadata": {},
   "source": [
    "### Automatically extract number and position of peaks in the ROI around t0"
   ]
  },
  {
   "cell_type": "code",
   "execution_count": null,
   "id": "310b0737-4d28-4b76-a725-7d84a16355f7",
   "metadata": {},
   "outputs": [],
   "source": [
    "# binned data\n",
    "roi = slice(3980, 4160)\n",
    "delay = slice(-0.5,0.5)\n",
    "data = res_corr.sel(dldTimeSteps = roi, delayStage=delay).sum('delayStage')\n",
    "distance = 7\n",
    "peaks, _ = find_peaks(data, height=None, distance=distance)\n",
    "\n",
    "p1SB = data[peaks]['dldTimeSteps'][0]\n",
    "W4f5 = data[peaks]['dldTimeSteps'][1]\n",
    "m1SB = data[peaks]['dldTimeSteps'][2]\n",
    "W4f7 = data[peaks]['dldTimeSteps'][3]\n",
    "mm1SB = data[peaks]['dldTimeSteps'][4]\n",
    "plt.figure()\n",
    "data.plot()\n",
    "plt.scatter(data[peaks]['dldTimeSteps'], data[peaks], c='r')#, \"x\")\n",
    "plt.vlines([p1SB-7,p1SB+7], 0, 150, color='violet', linestyles='dashed', label='$1^{st}$ order SB')\n",
    "plt.vlines([W4f5-7,W4f5+7], 0, 150, color='b', linestyles='dashed', label='W 4f 7/2')\n",
    "plt.vlines([m1SB-7,m1SB+7], 0, 150, color='g', linestyles='dashed', label='$-1^{st}$ order SB')\n",
    "plt.vlines([W4f7-7,W4f7+7], 0, 150, color='r', linestyles='dashed', label='W 4f 5/2')\n",
    "plt.vlines([mm1SB-7,mm1SB+7], 0, 150, color='orange', linestyles='dashed', label='$2nd -1^{st}$ order SB')\n",
    "plt.legend()\n",
    "plt.show()"
   ]
  },
  {
   "cell_type": "markdown",
   "id": "f2bee3d0-0ad9-4ed7-8356-16333cf48774",
   "metadata": {},
   "source": [
    "### find calibration parameters\n",
    "We now will fit the tof-energy relation. This is done using the maxima of a peak in the ToF spectrum and the known kinetic energy of those peaks (kinetic energy of e.g. W4f peaks (-31.4 and -33.6 eV) and their SB of different orders accounting energy of pump beam of 1030 nm = 1.2 eV. The calibration parameters are obtained by fitting the square root relation."
   ]
  },
  {
   "cell_type": "code",
   "execution_count": null,
   "id": "10752d1f-53c1-4871-b2fd-65a0101aba9a",
   "metadata": {},
   "outputs": [],
   "source": [
    "### Kinetic energy of w4f peaks and their SB\n",
    "ref_energy = -30.2\n",
    "sp_44498.ec.biases = -1*np.array([-30.2,-31.4,-32.6,-33.6,-34.8])\n",
    "sp_44498.ec.peaks = np.expand_dims(data[peaks]['dldTimeSteps'].data,1)\n",
    "sp_44498.ec.tof = res_corr.dldTimeSteps.data\n",
    "\n",
    "sp_44498.calibrate_energy_axis(\n",
    "    ref_energy=ref_energy,\n",
    "    method=\"lmfit\",\n",
    "    d={'value':1.0,'min': .8, 'max':1.0, 'vary':True},\n",
    "    t0={'value':5e-7, 'min': 1e-7, 'max': 1e-6, 'vary':True},\n",
    "    E0={'value': -100., 'min': -200, 'max': 15, 'vary': True},\n",
    ")"
   ]
  },
  {
   "cell_type": "markdown",
   "id": "4052d629-1178-4248-a945-d60a6ff34bf3",
   "metadata": {},
   "source": [
    "### Append energy axis into a data frame, bin and visualize data in the calibrated energy and corrected delay axis\n",
    "To get a correct energy axis, we undo the shifts imposed by the calibration function"
   ]
  },
  {
   "cell_type": "code",
   "execution_count": null,
   "id": "d37a8e16-d91c-4b93-be79-4d4f5ddd2dd0",
   "metadata": {},
   "outputs": [],
   "source": [
    "sp_44498.append_energy_axis()\n",
    "sp_44498.add_energy_offset(\n",
    "    constant=30.2,\n",
    "    columns=['monochromatorPhotonEnergy','tofVoltage','sampleBias'],\n",
    "    weights=[-1,-1,-1],\n",
    "    preserve_mean=[True, True,False],\n",
    ")"
   ]
  },
  {
   "cell_type": "code",
   "execution_count": null,
   "id": "4b78aab7-7a04-46f8-9e68-05f595758b7c",
   "metadata": {},
   "outputs": [],
   "source": [
    "axes = ['energy', 'delayStage']\n",
    "ranges = [[-37.5,-27.5], [-1.5,1.5]]\n",
    "bins = [200,60]\n",
    "res_corr = sp_44498.compute(bins=bins, axes=axes, ranges=ranges, normalize_to_acquisition_time=\"delayStage\")\n",
    "\n",
    "fig,ax = plt.subplots(1,2,figsize=(8,3), layout='constrained')\n",
    "fig.suptitle(f\"Run {run_number}: W 4f, side bands\")\n",
    "res_corr.plot(ax=ax[0], cmap='terrain')\n",
    "ax[0].set_title('raw')\n",
    "bg = res_corr.sel(delayStage=slice(-1.3,-1.0)).mean('delayStage')\n",
    "(res_corr-bg).plot(ax=ax[1])\n",
    "ax[1].set_title('difference')"
   ]
  },
  {
   "cell_type": "markdown",
   "id": "a66fac5e",
   "metadata": {},
   "source": [
    "## Compare to reference\n",
    "While this calibration methods gives a reasonable approximation to the energy axis, there are some deviations to the bias method, so it should be used with care"
   ]
  },
  {
   "cell_type": "code",
   "execution_count": null,
   "id": "d83d0eb6-34f2-4eec-a568-3a1767d8e705",
   "metadata": {},
   "outputs": [],
   "source": [
    "axes = ['energy']\n",
    "ranges = [[-37.5,-27.5]]\n",
    "bins = [200]\n",
    "res_1D = sp_44498.compute(bins=bins, axes=axes, ranges=ranges)\n",
    "\n",
    "plt.figure()\n",
    "(res_ref/res_ref.max()).plot(label=\"bias series calibration\")\n",
    "(res_1D/res_1D.max()).plot(label=\"side band calibration\")\n",
    "plt.legend()"
   ]
  },
  {
   "cell_type": "code",
   "execution_count": null,
   "id": "a26d270d",
   "metadata": {},
   "outputs": [],
   "source": []
  }
 ],
 "metadata": {
  "kernelspec": {
   "display_name": "python3",
   "language": "python",
   "name": "python3"
  },
  "language_info": {
   "codemirror_mode": {
    "name": "ipython",
    "version": 3
   },
   "file_extension": ".py",
   "mimetype": "text/x-python",
   "name": "python",
   "nbconvert_exporter": "python",
   "pygments_lexer": "ipython3",
   "version": "3.9.19"
  }
 },
 "nbformat": 4,
 "nbformat_minor": 5
}
