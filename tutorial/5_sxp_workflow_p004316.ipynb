{
 "cells": [
  {
   "cell_type": "code",
   "execution_count": null,
   "metadata": {
    "notebookRunGroups": {
     "groupValue": "1"
    }
   },
   "outputs": [],
   "source": [
    "from pathlib import Path\n",
    "\n",
    "%matplotlib inline\n",
    "# %matplotlib ipympl\n",
    "import matplotlib.pyplot as plt\n",
    "import numpy as np\n",
    "\n",
    "import sed\n",
    "from sed import SedProcessor"
   ]
  },
  {
   "cell_type": "code",
   "execution_count": null,
   "metadata": {
    "notebookRunGroups": {
     "groupValue": "1"
    }
   },
   "outputs": [],
   "source": [
    "local_path = Path(sed.__file__).parent.parent / \"tutorial/\"\n",
    "config_file = local_path / \"sxp_config.yaml\"\n",
    "assert config_file.exists()"
   ]
  },
  {
   "cell_type": "markdown",
   "metadata": {},
   "source": [
    "# Loading Data"
   ]
  },
  {
   "cell_type": "code",
   "execution_count": null,
   "metadata": {},
   "outputs": [],
   "source": [
    "config = {\n",
    "    \"core\": {\n",
    "        \"paths\": {\n",
    "            \"data_raw_dir\": \"/gpfs/exfel/exp/SXP/202302/p004316/raw/\",\n",
    "            \"data_parquet_dir\": \"../../sxp_parquet/\",\n",
    "        }\n",
    "    }\n",
    "}\n",
    "sp = SedProcessor(\n",
    "    runs=[\"0013\"],\n",
    "    config=config,\n",
    "    user_config=config_file,\n",
    "    system_config={},\n",
    "    collect_metadata=False,\n",
    "    force_recreate=True,\n",
    ")"
   ]
  },
  {
   "cell_type": "code",
   "execution_count": null,
   "metadata": {},
   "outputs": [],
   "source": [
    "ids=sp.dataframe.trainId.compute().values\n",
    "plt.plot(ids)"
   ]
  },
  {
   "cell_type": "code",
   "execution_count": null,
   "metadata": {},
   "outputs": [],
   "source": [
    "axes = [\"dldPosX\", \"dldPosY\", \"dldTimeSteps\"]\n",
    "bins = [100, 100, 100]\n",
    "ranges = [(0, 4000), (0, 4000), (1000, 28000)]\n",
    "sp.view_event_histogram(dfpid=0, axes=axes, bins=bins, ranges=ranges)"
   ]
  },
  {
   "cell_type": "code",
   "execution_count": null,
   "metadata": {},
   "outputs": [],
   "source": [
    "axes = [\"pulseId\", \"electronId\"]\n",
    "bins = [51, 11]\n",
    "ranges = [(-0.5, 50.5), (-0.5, 10.5)]\n",
    "sp.view_event_histogram(dfpid=1, axes=axes, bins=bins, ranges=ranges)"
   ]
  },
  {
   "cell_type": "code",
   "execution_count": null,
   "metadata": {},
   "outputs": [],
   "source": [
    "sp.add_jitter()"
   ]
  },
  {
   "cell_type": "markdown",
   "metadata": {},
   "source": [
    "# time-of-flight spectrum"
   ]
  },
  {
   "cell_type": "code",
   "execution_count": null,
   "metadata": {},
   "outputs": [],
   "source": [
    "sp.append_tof_ns_axis()"
   ]
  },
  {
   "cell_type": "code",
   "execution_count": null,
   "metadata": {},
   "outputs": [],
   "source": [
    "axes = [\"dldPosX\", \"dldPosY\", \"dldTimeSteps\"]\n",
    "bins = [100, 100, 100]\n",
    "ranges = [(0, 4000), (0, 4000), (1000, 140000)]\n",
    "res = sp.compute(bins=bins, axes=axes, ranges=ranges)"
   ]
  },
  {
   "cell_type": "code",
   "execution_count": null,
   "metadata": {},
   "outputs": [],
   "source": [
    "plt.figure()\n",
    "res.sum(axis=(0,1)).plot()"
   ]
  },
  {
   "cell_type": "code",
   "execution_count": null,
   "metadata": {},
   "outputs": [],
   "source": [
    "plt.figure()\n",
    "res.sum(axis=2).plot()"
   ]
  },
  {
   "cell_type": "markdown",
   "metadata": {},
   "source": [
    "# Energy Calibration"
   ]
  },
  {
   "cell_type": "code",
   "execution_count": null,
   "metadata": {},
   "outputs": [],
   "source": [
    "import h"
   ]
  }
 ],
 "metadata": {
  "kernelspec": {
   "display_name": "sed-odDZdDHM-py3.9",
   "language": "python",
   "name": "python3"
  },
  "language_info": {
   "codemirror_mode": {
    "name": "ipython",
    "version": 3
   },
   "file_extension": ".py",
   "mimetype": "text/x-python",
   "name": "python",
   "nbconvert_exporter": "python",
   "pygments_lexer": "ipython3",
   "version": "3.9.16"
  }
 },
 "nbformat": 4,
 "nbformat_minor": 4
}
