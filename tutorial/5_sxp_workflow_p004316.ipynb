{
 "cells": [
  {
   "cell_type": "code",
   "execution_count": null,
   "metadata": {
    "notebookRunGroups": {
     "groupValue": "1"
    }
   },
   "outputs": [],
   "source": [
    "from pathlib import Path\n",
    "\n",
    "#%matplotlib inline\n",
    "%matplotlib ipympl\n",
    "import matplotlib.pyplot as plt\n",
    "import numpy as np\n",
    "\n",
    "import sed\n",
    "from sed import SedProcessor"
   ]
  },
  {
   "cell_type": "code",
   "execution_count": null,
   "metadata": {
    "notebookRunGroups": {
     "groupValue": "1"
    }
   },
   "outputs": [],
   "source": [
    "local_path = Path(sed.__file__).parent.parent / \"tutorial/\"\n",
    "config_file = local_path / \"sxp_config.yaml\"\n",
    "assert config_file.exists()"
   ]
  },
  {
   "cell_type": "markdown",
   "metadata": {},
   "source": [
    "# Loading Data"
   ]
  },
  {
   "cell_type": "code",
   "execution_count": null,
   "metadata": {},
   "outputs": [],
   "source": [
    "config = {\n",
    "    \"core\": {\n",
    "        \"paths\": {\n",
    "            \"data_raw_dir\": \"../..//GPFS/exfel/exp/SXP/202302/p004316/raw/\",\n",
    "            \"data_parquet_dir\": \"../../sxp_parquet/\",\n",
    "        }\n",
    "    }\n",
    "}\n",
    "sp = SedProcessor(\n",
    "    runs=[\"0058\", \"0059\", \"0060\", \"0061\"],\n",
    "    config=config,\n",
    "    user_config=config_file,\n",
    "    system_config={},\n",
    "    collect_metadata=False,\n",
    "    #force_recreate=True,\n",
    ")"
   ]
  },
  {
   "cell_type": "code",
   "execution_count": null,
   "metadata": {},
   "outputs": [],
   "source": [
    "plt.figure()\n",
    "ids=sp.dataframe.trainId.compute().values\n",
    "plt.plot(ids)\n",
    "plt.show()"
   ]
  },
  {
   "cell_type": "code",
   "execution_count": null,
   "metadata": {},
   "outputs": [],
   "source": [
    "sp.dataframe.head()"
   ]
  },
  {
   "cell_type": "code",
   "execution_count": null,
   "metadata": {},
   "outputs": [],
   "source": [
    "sp.filter_column(\"pulseId\", max_value=300)"
   ]
  },
  {
   "cell_type": "code",
   "execution_count": null,
   "metadata": {},
   "outputs": [],
   "source": [
    "axes = [\"dldPosX\", \"dldPosY\", \"dldTimeSteps\", \"delayStage\"]\n",
    "bins = [100, 100, 100, 100]\n",
    "ranges = [(0, 4000), (0, 4000), (1000, 28000), (-1000, 1000)]\n",
    "sp.view_event_histogram(dfpid=3, axes=axes, bins=bins, ranges=ranges)"
   ]
  },
  {
   "cell_type": "code",
   "execution_count": null,
   "metadata": {},
   "outputs": [],
   "source": [
    "axes = [\"pulseId\", \"electronId\"]\n",
    "bins = [51, 11]\n",
    "ranges = [(-0.5, 50.5), (-0.5, 10.5)]\n",
    "sp.view_event_histogram(dfpid=1, axes=axes, bins=bins, ranges=ranges)"
   ]
  },
  {
   "cell_type": "code",
   "execution_count": null,
   "metadata": {},
   "outputs": [],
   "source": [
    "axes = [\"dldTimeSteps\", \"pulseId\"]\n",
    "bins = [200, 800]\n",
    "ranges = [(8000, 28000), (0, 800)]\n",
    "res3 = sp.compute(bins=bins, axes=axes, ranges=ranges)\n",
    "plt.figure()\n",
    "res3.plot(robust=True)"
   ]
  },
  {
   "cell_type": "code",
   "execution_count": null,
   "metadata": {},
   "outputs": [],
   "source": [
    "sp.add_jitter()"
   ]
  },
  {
   "cell_type": "markdown",
   "metadata": {},
   "source": [
    "# time-of-flight spectrum"
   ]
  },
  {
   "cell_type": "code",
   "execution_count": null,
   "metadata": {},
   "outputs": [],
   "source": [
    "sp.filter_column(\"electronId\", max_value=1)"
   ]
  },
  {
   "cell_type": "code",
   "execution_count": null,
   "metadata": {},
   "outputs": [],
   "source": [
    "axes = [\"dldPosX\", \"dldPosY\", \"dldTimeSteps\", \"delayStage\"]\n",
    "bins = [100, 100, 100, 100]\n",
    "ranges = [(0, 4000), (0, 4000), (8000, 28000), (-200, 200)]\n",
    "res = sp.compute(bins=bins, axes=axes, ranges=ranges, normalize_to_acquisition_time=\"delayStage\")"
   ]
  },
  {
   "cell_type": "code",
   "execution_count": null,
   "metadata": {},
   "outputs": [],
   "source": [
    "plt.figure()\n",
    "res.loc[{\"dldPosX\":slice(100, 3600), \"dldPosY\":slice(100,3500)}].sum(axis=(0,1)).plot()"
   ]
  },
  {
   "cell_type": "code",
   "execution_count": null,
   "metadata": {},
   "outputs": [],
   "source": [
    "plt.figure()\n",
    "plt.plot(res.dldTimeSteps*0.00685, res.sum(axis=(0,1)))"
   ]
  },
  {
   "cell_type": "code",
   "execution_count": null,
   "metadata": {},
   "outputs": [],
   "source": []
  },
  {
   "cell_type": "code",
   "execution_count": null,
   "metadata": {},
   "outputs": [],
   "source": [
    "plt.figure()\n",
    "res.loc[{'dldTimeSteps':slice(8000, 20000)}].sum(axis=2).plot()"
   ]
  },
  {
   "cell_type": "markdown",
   "metadata": {},
   "source": [
    "# Energy Calibration"
   ]
  },
  {
   "cell_type": "code",
   "execution_count": null,
   "metadata": {},
   "outputs": [],
   "source": [
    "sp.append_tof_ns_axis()"
   ]
  },
  {
   "cell_type": "code",
   "execution_count": null,
   "metadata": {},
   "outputs": [],
   "source": [
    "axes = ['dldTime']\n",
    "bins = [2000]\n",
    "ranges = [[10,200]]\n",
    "res = sp.compute(bins=bins, axes=axes, ranges=ranges)\n",
    "plt.figure()\n",
    "res.plot()"
   ]
  },
  {
   "cell_type": "code",
   "execution_count": null,
   "metadata": {},
   "outputs": [],
   "source": [
    "import xarray as xr\n",
    "runs = [\"0074\", \"0073\", \"0072\", \"0071\", \"0070\", \"0064\", \"0065\", \"0066\", \"0067\", \"0068\", \"0069\"]\n",
    "biases = np.arange(962, 951, -1)\n",
    "data = []\n",
    "for run in runs:\n",
    "    sp.load(runs=[run])\n",
    "    axes = [\"dldTimeSteps\"]\n",
    "    bins = [2000]\n",
    "    ranges = [(1000, 25000)]\n",
    "    res = sp.compute(bins=bins, axes=axes, ranges=ranges)\n",
    "    data.append(res)\n",
    "    res.plot()\n",
    "\n",
    "biasSeries = xr.concat(data, dim=xr.DataArray(biases, dims=\"sampleBias\", name=\"sampleBias\"))"
   ]
  },
  {
   "cell_type": "code",
   "execution_count": null,
   "metadata": {},
   "outputs": [],
   "source": [
    "sp.load_bias_series(binned_data=biasSeries)"
   ]
  },
  {
   "cell_type": "code",
   "execution_count": null,
   "metadata": {},
   "outputs": [],
   "source": [
    "ranges=(6380, 6700)\n",
    "ref_id=6\n",
    "sp.find_bias_peaks(ranges=ranges, ref_id=ref_id, apply=True)"
   ]
  },
  {
   "cell_type": "code",
   "execution_count": null,
   "metadata": {},
   "outputs": [],
   "source": [
    "sp.calibrate_energy_axis(\n",
    "    ref_id=5,\n",
    "    ref_energy=-33,\n",
    "    method=\"lmfit\",\n",
    "    energy_scale='kinetic',\n",
    "    d={'value':1.1,'min': .2, 'max':5.0, 'vary':False},\n",
    "    t0={'value':-1E-8, 'min': -1E-6, 'max': 1e-4, 'vary':True},\n",
    "    E0={'value': 0., 'min': -1500, 'max': 1500, 'vary': True},\n",
    ")"
   ]
  },
  {
   "cell_type": "code",
   "execution_count": null,
   "metadata": {},
   "outputs": [],
   "source": [
    "sp.save_energy_calibration()"
   ]
  },
  {
   "cell_type": "code",
   "execution_count": null,
   "metadata": {},
   "outputs": [],
   "source": [
    "sp.append_energy_axis()"
   ]
  },
  {
   "cell_type": "code",
   "execution_count": null,
   "metadata": {},
   "outputs": [],
   "source": [
    "sp.load(runs=[\"0058\", \"0059\", \"0060\", \"0061\"])\n",
    "sp.add_jitter()\n",
    "sp.append_energy_axis()"
   ]
  },
  {
   "cell_type": "code",
   "execution_count": null,
   "metadata": {},
   "outputs": [],
   "source": [
    "axes = ['energy', \"delayStage\"]\n",
    "bins = [200, 100]\n",
    "ranges = [[-37,-31], [-135, -115]]\n",
    "res = sp.compute(bins=bins, axes=axes, ranges=ranges, normalize_to_acquisition_time=\"delayStage\")"
   ]
  },
  {
   "cell_type": "code",
   "execution_count": null,
   "metadata": {},
   "outputs": [],
   "source": [
    "plt.figure()\n",
    "res.plot()\n",
    "plt.title(\"Scans 58-61 binned to energy and delayStage\")"
   ]
  },
  {
   "cell_type": "code",
   "execution_count": null,
   "metadata": {},
   "outputs": [],
   "source": []
  }
 ],
 "metadata": {
  "kernelspec": {
   "display_name": "sed-odDZdDHM-py3.9",
   "language": "python",
   "name": "python3"
  },
  "language_info": {
   "codemirror_mode": {
    "name": "ipython",
    "version": 3
   },
   "file_extension": ".py",
   "mimetype": "text/x-python",
   "name": "python",
   "nbconvert_exporter": "python",
   "pygments_lexer": "ipython3",
   "version": "3.9.16"
  }
 },
 "nbformat": 4,
 "nbformat_minor": 4
}
