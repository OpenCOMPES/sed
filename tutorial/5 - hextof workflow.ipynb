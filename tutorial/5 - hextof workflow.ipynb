{
 "cells": [
  {
   "cell_type": "code",
   "execution_count": null,
   "metadata": {},
   "outputs": [],
   "source": [
    "from pathlib import Path\n",
    "\n",
    "from sed import SedProcessor\n",
    "import sed\n",
    "import numpy as np\n",
    "\n",
    "%matplotlib inline\n",
    "# %matplotlib ipympl\n",
    "import matplotlib.pyplot as plt\n",
    "\n"
   ]
  },
  {
   "cell_type": "code",
   "execution_count": null,
   "metadata": {},
   "outputs": [],
   "source": [
    "config_file = Path(sed.__file__).parent.parent/'tutorial/hextof_config.yaml'\n",
    "assert config_file.exists()"
   ]
  },
  {
   "cell_type": "markdown",
   "metadata": {},
   "source": [
    "# with energy calibration"
   ]
  },
  {
   "cell_type": "code",
   "execution_count": null,
   "metadata": {},
   "outputs": [],
   "source": [
    "sp = SedProcessor(runs=[44797], config=config_file, collect_metadata=False)"
   ]
  },
  {
   "cell_type": "code",
   "execution_count": null,
   "metadata": {},
   "outputs": [],
   "source": [
    "sp.add_jitter()\n",
    "sp.align_dld_sectors()"
   ]
  },
  {
   "cell_type": "code",
   "execution_count": null,
   "metadata": {},
   "outputs": [],
   "source": [
    "# axes = ['sampleBias', 'dldTimeSteps']\n",
    "# bins = [5, 500]\n",
    "# ranges = [[28,33], [4000, 6500]]\n",
    "# res = sp.compute(bins=bins, axes=axes, ranges=ranges)"
   ]
  },
  {
   "cell_type": "code",
   "execution_count": null,
   "metadata": {},
   "outputs": [],
   "source": [
    "# plt.figure()\n",
    "# res.plot.line(x='dldTimeSteps');"
   ]
  },
  {
   "cell_type": "code",
   "execution_count": null,
   "metadata": {},
   "outputs": [],
   "source": [
    "# posMax = np.zeros(5)\n",
    "# bias = np.zeros(5)\n",
    "# for i in range(5):\n",
    "#     posMax[i] = res['dldTimeSteps'][np.argmax(res[i,:].values)]\n",
    "#     bias[i] = res['sampleBias'][i]"
   ]
  },
  {
   "cell_type": "code",
   "execution_count": null,
   "metadata": {},
   "outputs": [],
   "source": [
    "# parameters = sed.calibrator.energy.poly_energy_calibration(\n",
    "#                                             pos=posMax, \n",
    "#                                             vals=bias, \n",
    "#                                             order=2, \n",
    "#                                             ref_id = 3, \n",
    "#                                             ref_energy=0.0,\n",
    "#                                             t = 0)\n",
    "#                                             #t=42720.0)\n",
    "# print(\"parameters:\")\n",
    "# print(parameters.keys())"
   ]
  },
  {
   "cell_type": "code",
   "execution_count": null,
   "metadata": {},
   "outputs": [],
   "source": [
    "# parameters"
   ]
  },
  {
   "cell_type": "code",
   "execution_count": null,
   "metadata": {},
   "outputs": [],
   "source": [
    "sp.append_energy_axis()#calibration=parameters)\n",
    "# sp_enCal._dataframe['energy'] = -sp_enCal._dataframe['energy']-4.0"
   ]
  },
  {
   "cell_type": "code",
   "execution_count": null,
   "metadata": {},
   "outputs": [],
   "source": [
    "# %matplotlib widget"
   ]
  },
  {
   "cell_type": "code",
   "execution_count": null,
   "metadata": {},
   "outputs": [],
   "source": [
    "# axes = ['sampleBias', 'energy']\n",
    "# bins = [5, 500]\n",
    "# ranges = [[28,33], [-5, 10]]\n",
    "# res = sp.compute(bins=bins, axes=axes, ranges=ranges)"
   ]
  },
  {
   "cell_type": "code",
   "execution_count": null,
   "metadata": {},
   "outputs": [],
   "source": [
    "# plt.figure()\n",
    "# res.plot.line(x='energy');"
   ]
  },
  {
   "cell_type": "code",
   "execution_count": null,
   "metadata": {},
   "outputs": [],
   "source": [
    "# sp.attributes.pop('apply_energy_offset')"
   ]
  },
  {
   "cell_type": "code",
   "execution_count": null,
   "metadata": {},
   "outputs": [],
   "source": [
    "sp.apply_energy_offset(\n",
    "    constant=32, \n",
    "    columns=['sampleBias'],# 'tofVoltage'], \n",
    "    signs=[-1],#, +1], \n",
    "    mode='direct'\n",
    ")"
   ]
  },
  {
   "cell_type": "code",
   "execution_count": null,
   "metadata": {},
   "outputs": [],
   "source": [
    "h = sp.dataframe[['energy','sampleBias','tofVoltage','monochromatorPhotonEnergy']].head()\n",
    "h"
   ]
  },
  {
   "cell_type": "code",
   "execution_count": null,
   "metadata": {},
   "outputs": [],
   "source": [
    "axes = ['sampleBias', 'energy']\n",
    "bins = [5, 500]\n",
    "ranges = [[28,33], [h['energy'][0]-5,h['energy'][0]+5]]\n",
    "res = sp.compute(bins=bins, axes=axes, ranges=ranges)"
   ]
  },
  {
   "cell_type": "code",
   "execution_count": null,
   "metadata": {},
   "outputs": [],
   "source": [
    "plt.figure()\n",
    "res.mean('sampleBias').plot.line(x='energy',linewidth=3);\n",
    "res.plot.line(x='energy',linewidth=1,alpha=.5,label='all');\n"
   ]
  },
  {
   "cell_type": "code",
   "execution_count": null,
   "metadata": {},
   "outputs": [],
   "source": [
    "\n",
    "# sp._dataframe['energy'] = -sp._dataframe['energy'] - 9"
   ]
  },
  {
   "cell_type": "code",
   "execution_count": null,
   "metadata": {},
   "outputs": [],
   "source": [
    "axes = ['sampleBias', 'energy']\n",
    "bins = [5, 500]\n",
    "ranges = [[28,33], [h['energy'][0]-5,h['energy'][0]+5]]\n",
    "res = sp.compute(bins=bins, axes=axes, ranges=ranges)"
   ]
  }
 ],
 "metadata": {
  "kernelspec": {
   "display_name": "sed38",
   "language": "python",
   "name": "sed38"
  }
 },
 "nbformat": 4,
 "nbformat_minor": 2
}
